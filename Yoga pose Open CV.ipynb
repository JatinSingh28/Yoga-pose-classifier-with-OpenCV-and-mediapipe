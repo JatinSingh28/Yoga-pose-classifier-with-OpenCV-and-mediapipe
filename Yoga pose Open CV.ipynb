{
 "cells": [
  {
   "cell_type": "code",
   "execution_count": 1,
   "id": "5ec5ee54",
   "metadata": {},
   "outputs": [],
   "source": [
    "# !pip install mediapipe opencv-python\n",
    "# !pip3 install tensorflowjs\n",
    "# !pip install protobuf==3.20.*\n",
    "# !pip uninstall mediapipe\n",
    "# !pip install mlserver==1.0.1 grpcio==3.20.1"
   ]
  },
  {
   "cell_type": "code",
   "execution_count": 2,
   "id": "6a8b0f37",
   "metadata": {},
   "outputs": [
    {
     "name": "stderr",
     "output_type": "stream",
     "text": [
      "2023-05-30 20:32:15.123723: I tensorflow/tsl/cuda/cudart_stub.cc:28] Could not find cuda drivers on your machine, GPU will not be used.\n",
      "2023-05-30 20:32:15.212847: I tensorflow/tsl/cuda/cudart_stub.cc:28] Could not find cuda drivers on your machine, GPU will not be used.\n",
      "2023-05-30 20:32:15.213961: I tensorflow/core/platform/cpu_feature_guard.cc:182] This TensorFlow binary is optimized to use available CPU instructions in performance-critical operations.\n",
      "To enable the following instructions: AVX2 FMA, in other operations, rebuild TensorFlow with the appropriate compiler flags.\n",
      "2023-05-30 20:32:16.959098: W tensorflow/compiler/tf2tensorrt/utils/py_utils.cc:38] TF-TRT Warning: Could not find TensorRT\n"
     ]
    }
   ],
   "source": [
    "import cv2\n",
    "import mediapipe as mp\n",
    "import tensorflow as tf\n",
    "import csv\n",
    "import numpy as np\n",
    "import os\n",
    "import pandas as pd\n",
    "from sklearn.preprocessing import LabelEncoder\n",
    "# import tensorflowjs as tfjs\n",
    "# import tensorflowjs as tfjs"
   ]
  },
  {
   "cell_type": "code",
   "execution_count": 3,
   "id": "20ffab0d",
   "metadata": {},
   "outputs": [],
   "source": [
    "mp_drawing = mp.solutions.drawing_utils\n",
    "mp_drawing_styles = mp.solutions.drawing_styles\n",
    "mp_pose = mp.solutions.pose"
   ]
  },
  {
   "cell_type": "code",
   "execution_count": 4,
   "id": "be6d1c97",
   "metadata": {},
   "outputs": [],
   "source": [
    "# cap = cv2.VideoCapture(0)\n",
    "# with mp_pose.Pose(min_detection_confidence=0.5, min_tracking_confidence=0.5) as pose:\n",
    "#   while cap.isOpened():\n",
    "#     success, image = cap.read()\n",
    "#     if not success:\n",
    "#       print(\"Unable to record\")\n",
    "#       continue\n",
    "#     image.flags.writeable = False\n",
    "#     image = cv2.cvtColor(image,cv2.COLOR_BGR2RGB )\n",
    "#     results = pose.process(image)\n",
    "\n",
    "#     image.flags.writeable = True\n",
    "#     image = cv2.cvtColor(image, cv2.COLOR_RGB2BGR)\n",
    "\n",
    "#     mp_drawing.draw_landmarks(image, results.pose_landmarks, mp_pose.POSE_CONNECTIONS, landmark_drawing_spec = mp_drawing_styles.get_default_pose_landmarks_style())\n",
    "\n",
    "#     cv2.imshow('MediaPipe Pose', cv2.flip(image,1))\n",
    "\n",
    "#     if cv2.waitKey(5) & 0xFF == ord('q'):\n",
    "#       break\n",
    "# cap.release()\n",
    "# cv2.destroyAllWindows()"
   ]
  },
  {
   "cell_type": "code",
   "execution_count": 5,
   "id": "8c71462e",
   "metadata": {},
   "outputs": [],
   "source": [
    "# def get_center_point(landmarks, left_bodypart, right_bodypart):\n",
    "#     left = tf.gather(landmarks, left_bodypart.value, axis=1)\n",
    "#     right = tf.gather(landmarks, right_bodypart.value, axis=1)\n",
    "#     center = left * 0.5 + right * 0.5\n",
    "#     return center\n",
    "\n",
    "\n",
    "# def get_pose_size(landmarks, torso_size_multiplier=2.5):\n",
    "#     hips_center = get_center_point(landmarks, BodyPart.LEFT_HIP, \n",
    "#                                  BodyPart.RIGHT_HIP)\n",
    "\n",
    "#   # Shoulders center\n",
    "#     shoulders_center = get_center_point(landmarks, BodyPart.LEFT_SHOULDER,\n",
    "#                                       BodyPart.RIGHT_SHOULDER)\n",
    "\n",
    "#   # Torso size as the minimum body size\n",
    "#     torso_size = tf.linalg.norm(shoulders_center - hips_center)\n",
    "\n",
    "#   # Pose center\n",
    "#     pose_center_new = get_center_point(landmarks, BodyPart.LEFT_HIP, \n",
    "#                                      BodyPart.RIGHT_HIP)\n",
    "#     pose_center_new = tf.expand_dims(pose_center_new, axis=1)\n",
    "#   # Broadcast the pose center to the same size as the landmark vector to\n",
    "#   # perform substraction\n",
    "#     pose_center_new = tf.broadcast_to(pose_center_new,\n",
    "#                                     [tf.size(landmarks) // (17*2), 17, 2])\n",
    "\n",
    "#   # Dist to pose center\n",
    "#     d = tf.gather(landmarks - pose_center_new, 0, axis=0,\n",
    "#                 name=\"dist_to_pose_center\")\n",
    "#   # Max dist to pose center\n",
    "#     max_dist = tf.reduce_max(tf.linalg.norm(d, axis=0))\n",
    "\n",
    "#   # Normalize scale\n",
    "#     pose_size = tf.maximum(torso_size * torso_size_multiplier, max_dist)\n",
    "\n",
    "#     return pose_size\n",
    "\n",
    "\n",
    "# def normalize_pose_landmarks(landmarks):\n",
    "#     pose_center = get_center_point(landmarks, BodyPart.LEFT_HIP, \n",
    "#                                  BodyPart.RIGHT_HIP)\n",
    "#     pose_center = tf.expand_dims(pose_center, axis=1)\n",
    "#   # Broadcast the pose center to the same size as the landmark vector to perform\n",
    "#   # substraction\n",
    "#     pose_center = tf.broadcast_to(pose_center, \n",
    "#                                 [tf.size(landmarks) // (17*2), 17, 2])\n",
    "#     landmarks = landmarks - pose_center\n",
    "\n",
    "#   # Scale the landmarks to a constant pose size\n",
    "#     pose_size = get_pose_size(landmarks)\n",
    "#     landmarks /= pose_size\n",
    "\n",
    "#     return landmarks\n",
    "\n",
    "\n",
    "# def landmarks_to_embedding(landmarks_and_scores):\n",
    "#     reshaped_inputs = keras.layers.Reshape((33, 3))(landmarks_and_scores)\n",
    "\n",
    "#   # Normalize landmarks 2D\n",
    "#     landmarks = normalize_pose_landmarks(reshaped_inputs[:, :, :2])\n",
    "\n",
    "#   # Flatten the normalized landmark coordinates into a vector\n",
    "#     embedding = keras.layers.Flatten()(landmarks)\n",
    "\n",
    "#     return embedding"
   ]
  },
  {
   "cell_type": "code",
   "execution_count": 6,
   "id": "f2659e37",
   "metadata": {},
   "outputs": [],
   "source": [
    "# def get_center_point(landmarks, left_bodypart, right_bodypart):\n",
    "#     left = tf.gather(landmarks, left_bodypart, 1)\n",
    "#     right = tf.gather(landmarks, right_bodypart, 1)\n",
    "#     center = tf.add(tf.mul(left, 0.5), tf.mul(right, 0.5))\n",
    "#     return center\n",
    "  \n",
    "\n",
    "# def get_pose_size(landmarks, torso_size_multiplier = 2.5):\n",
    "#     hips_center = get_center_point(\n",
    "#       landmarks,\n",
    "#       POINTS.LEFT_HIP,\n",
    "#       POINTS.RIGHT_HIP\n",
    "#     )\n",
    "#     shoulders_center = get_center_point(\n",
    "#       landmarks,\n",
    "#       POINTS.LEFT_SHOULDER,\n",
    "#       POINTS.RIGHT_SHOULDER\n",
    "#     )\n",
    "#     torso_size = tf.norm(tf.sub(shoulders_center, hips_center))\n",
    "#     pose_center_new = get_center_point(\n",
    "#       landmarks,\n",
    "#       POINTS.LEFT_HIP,\n",
    "#       POINTS.RIGHT_HIP\n",
    "#     )\n",
    "#     pose_center_new = tf.expandDims(pose_center_new, 1)\n",
    "\n",
    "# #     // pose_center_new = tf.broadcastTo(pose_center_new, [1, 17, 2]);\n",
    "# #     // return: shape(17,2)\n",
    "#     d = tf.gather(tf.sub(landmarks, pose_center_new), 0, 0)\n",
    "#     max_dist = tf.max(tf.norm(d, \"euclidean\", 0))\n",
    "\n",
    "# #     // normalize scale\n",
    "#     pose_size = tf.maximum(\n",
    "#       tf.mul(torso_size, torso_size_multiplier),\n",
    "#       max_dist\n",
    "#     )\n",
    "#     return pose_size\n",
    "\n",
    "# def normalize_pose_landmarks(landmarks):\n",
    "#     pose_center = get_center_point(\n",
    "#       landmarks,\n",
    "#       POINTS.LEFT_HIP,\n",
    "#       POINTS.RIGHT_HIP\n",
    "#     )\n",
    "#     pose_center = tf.expandDims(pose_center, 1)\n",
    "# #     // pose_center = tf.broadcastTo(pose_center, [1, 17, 2])\n",
    "#     landmarks = tf.sub(landmarks, pose_center)\n",
    "\n",
    "#     pose_size = get_pose_size(landmarks)\n",
    "#     landmarks = tf.div(landmarks, pose_size)\n",
    "#     return landmarks\n",
    "\n",
    "# def landmarks_to_embedding(landmarks):\n",
    "# #     // normalize landmarks 2D\n",
    "#     landmarks = normalize_pose_landmarks(tf.expandDims(landmarks, 0))\n",
    "#     embedding = tf.reshape(landmarks, [1, 99])\n",
    "# #     // console.log(embedding.array().then((data) => console.log(data)));\n",
    "#     return embedding\n",
    "  "
   ]
  },
  {
   "cell_type": "code",
   "execution_count": 68,
   "id": "ab104027",
   "metadata": {},
   "outputs": [],
   "source": [
    "# # Run this to generate pose coordinate\n",
    "# csv_out_path = 'pose_coordinate.csv'\n",
    "# with open(csv_out_path, 'w') as csv_out_file:\n",
    "#     csv_out_writer = csv.writer(csv_out_file, delimiter=',', quoting=csv.QUOTE_MINIMAL)\n",
    "    \n",
    "#     basepath = 'train'\n",
    "#     for entry in os.listdir(basepath):\n",
    "#         folder_path = os.path.join(basepath, entry)\n",
    "#         for img in os.listdir(folder_path):\n",
    "#             with mp_pose.Pose(min_detection_confidence=0.5, min_tracking_confidence=0.5) as pose:\n",
    "#                 image_path = os.path.join(folder_path,img)\n",
    "#                 image = cv2.imread(image_path)\n",
    "\n",
    "#                 image.flags.writeable = False\n",
    "#                 image = cv2.cvtColor(image,cv2.COLOR_BGR2RGB )\n",
    "#                 result = pose.process(image)\n",
    "#                 pose_landmarks = result.pose_landmarks\n",
    "#                 output_frame = image.copy()\n",
    "                \n",
    "#                 if pose_landmarks is not None:\n",
    "#                     # Check the number of landmarks and take pose landmarks.\n",
    "#                     assert len(pose_landmarks.landmark) == 33, 'Unexpected number of predicted pose landmarks: {}'.format(len(pose_landmarks.landmark))\n",
    "#                     pose_landmarks = [[lmk.x, lmk.y, lmk.z] for lmk in pose_landmarks.landmark]\n",
    "\n",
    "#                     # Map pose landmarks from [0, 1] range to absolute coordinates to get\n",
    "#                     # correct aspect ratio.\n",
    "#                     frame_height, frame_width = output_frame.shape[:2]\n",
    "#                     pose_landmarks *= np.array([frame_width, frame_height, frame_width])\n",
    "\n",
    "#                     # Write pose sample to CSV.\n",
    "#                     pose_landmarks = np.around(pose_landmarks, 5).flatten().astype(str).tolist()\n",
    "#                     csv_out_writer.writerow([img, entry] + pose_landmarks)\n",
    "\n"
   ]
  },
  {
   "cell_type": "code",
   "execution_count": 8,
   "id": "338d3cf6",
   "metadata": {},
   "outputs": [],
   "source": [
    "# def get_center_point(pose_landmarks):\n",
    "#     left_hip = pose_landmarks.landmark[23]\n",
    "#     right_hip = pose_landmarks.landmark[24]\n",
    "#     hip_center_x = (left_hip.x + right_hip.x)*0.5;\n",
    "#     hip_center_y = (left_hip.y + right_hip.y)*0.5;\n",
    "                    \n",
    "#     left_shoulder = pose_landmarks.landmark[11]\n",
    "#     right_shoulder = pose_landmarks.landmark[12]\n",
    "#     shoulder_center_x = (left_shoulder.x + right_shoulder.x)*0.5;\n",
    "#     shoulder_center_y = (left_shoulder.y + right_shoulder.y)*0.5;\n",
    "                    \n",
    "#     torso_center_x = (hip_center_x + shoulder_center_x )*0.5;\n",
    "#     torso_center_y = (hip_center_y + shoulder_center_y )*0.5;\n",
    "\n",
    "#     return torso_center_x, torso_center_y"
   ]
  },
  {
   "cell_type": "code",
   "execution_count": 9,
   "id": "3a952f78",
   "metadata": {},
   "outputs": [],
   "source": [
    "# def normalize(landmarks,pose_center_new):\n",
    "#     d = tf.gather(landmarks - pose_center_new, 0, axis=0,\n",
    "#                 name=\"dist_to_pose_center\")\n",
    "#       # Max dist to pose center\n",
    "#     max_dist = tf.reduce_max(tf.linalg.norm(d, axis=0))\n",
    "\n",
    "#       # Normalize scale\n",
    "#     pose_size = tf.maximum(torso_size * torso_size_multiplier, max_dist)"
   ]
  },
  {
   "cell_type": "code",
   "execution_count": 10,
   "id": "6c19889d",
   "metadata": {},
   "outputs": [],
   "source": [
    "\n",
    "# csv_out_path = 'pose_coordinate.csv'\n",
    "# with open(csv_out_path, 'w') as csv_out_file:\n",
    "#     csv_out_writer = csv.writer(csv_out_file, delimiter=',', quoting=csv.QUOTE_MINIMAL)\n",
    "    \n",
    "#     basepath = 'train'\n",
    "#     for entry in os.listdir(basepath):\n",
    "#         folder_path = os.path.join(basepath, entry)\n",
    "#         for img in os.listdir(folder_path):\n",
    "#             with mp_pose.Pose(min_detection_confidence=0.5, min_tracking_confidence=0.5) as pose:\n",
    "#                 image_path = os.path.join(folder_path,img)\n",
    "#                 image = cv2.imread(image_path)\n",
    "\n",
    "#                 image.flags.writeable = False\n",
    "#                 image = cv2.cvtColor(image,cv2.COLOR_BGR2RGB )\n",
    "#                 result = pose.process(image)\n",
    "#                 pose_landmarks = result.pose_landmarks\n",
    "#                 output_frame = image.copy()\n",
    "                \n",
    "#                 if pose_landmarks is not None:\n",
    "#                     torso_center_x, torso_center_y = get_center_point(pose_landmarks)\n",
    "#                     print(torso_center_x, torso_center_y)\n",
    "# #                     # Check the number of landmarks and take pose landmarks.\n",
    "#                     assert len(pose_landmarks.landmark) == 33, 'Unexpected number of predicted pose landmarks: {}'.format(len(pose_landmarks.landmark))\n",
    "#                     pose_landmarks = [[lmk.x - torso_center_x, lmk.y - torso_center_y, lmk.z] for lmk in pose_landmarks.landmark]\n",
    "\n",
    "#                     # Map pose landmarks from [0, 1] range to absolute coordinates to get\n",
    "#                     # correct aspect ratio.\n",
    "#                     frame_height, frame_width = output_frame.shape[:2]\n",
    "#                     pose_landmarks *= np.array([frame_width, frame_height, frame_width])\n",
    "\n",
    "#                     # Write pose sample to CSV.\n",
    "#                     pose_landmarks = np.around(pose_landmarks, 5).flatten().astype(str).tolist()\n",
    "#                     csv_out_writer.writerow([img, entry] + pose_landmarks)\n",
    "\n"
   ]
  },
  {
   "cell_type": "code",
   "execution_count": 11,
   "id": "863dcc19",
   "metadata": {},
   "outputs": [],
   "source": [
    "\n",
    "# csv_out_path = 'pose_coordinate.csv'\n",
    "# with open(csv_out_path, 'w') as csv_out_file:\n",
    "#     csv_out_writer = csv.writer(csv_out_file, delimiter=',', quoting=csv.QUOTE_MINIMAL)\n",
    "    \n",
    "#     basepath = 'train'\n",
    "#     for entry in os.listdir(basepath):\n",
    "#         folder_path = os.path.join(basepath, entry)\n",
    "#         for img in os.listdir(folder_path):\n",
    "#             with mp_pose.Pose(min_detection_confidence=0.5, min_tracking_confidence=0.5) as pose:\n",
    "#                 image_path = os.path.join(folder_path,img)\n",
    "#                 image = cv2.imread(image_path)\n",
    "\n",
    "#                 image.flags.writeable = False\n",
    "#                 image = cv2.cvtColor(image,cv2.COLOR_BGR2RGB )\n",
    "#                 result = pose.process(image)\n",
    "#                 pose_landmarks = result.pose_landmarks\n",
    "#                 output_frame = image.copy()\n",
    "                \n",
    "#                 if pose_landmarks is not None:\n",
    "# #                     torso_center_x, torso_center_y = get_center_point(pose_landmarks)\n",
    "# #                     print(torso_center_x, torso_center_y)\n",
    "# #                     # Check the number of landmarks and take pose landmarks.\n",
    "#                     assert len(pose_landmarks.landmark) == 33, 'Unexpected number of predicted pose landmarks: {}'.format(len(pose_landmarks.landmark))\n",
    "#                     pose_landmarks = [[lmk.x , lmk.y , lmk.z] for lmk in pose_landmarks.landmark]\n",
    "#                     pose_landmarks = landmarks_to_embedding(pose_landmarks)\n",
    "#                     # Map pose landmarks from [0, 1] range to absolute coordinates to get\n",
    "#                     # correct aspect ratio.\n",
    "#                     frame_height, frame_width = output_frame.shape[:2]\n",
    "#                     pose_landmarks *= np.array([frame_width, frame_height, frame_width])\n",
    "\n",
    "#                     # Write pose sample to CSV.\n",
    "#                     pose_landmarks = np.around(pose_landmarks, 5).flatten().astype(str).tolist()\n",
    "#                     csv_out_writer.writerow([img, entry] + pose_landmarks)\n",
    "\n"
   ]
  },
  {
   "cell_type": "code",
   "execution_count": 69,
   "id": "8164f264",
   "metadata": {},
   "outputs": [],
   "source": [
    "df = pd.read_csv('pose_coordinate.csv',names=[x for x in range(101)])"
   ]
  },
  {
   "cell_type": "code",
   "execution_count": 70,
   "id": "2515fa92",
   "metadata": {},
   "outputs": [
    {
     "data": {
      "text/html": [
       "<div>\n",
       "<style scoped>\n",
       "    .dataframe tbody tr th:only-of-type {\n",
       "        vertical-align: middle;\n",
       "    }\n",
       "\n",
       "    .dataframe tbody tr th {\n",
       "        vertical-align: top;\n",
       "    }\n",
       "\n",
       "    .dataframe thead th {\n",
       "        text-align: right;\n",
       "    }\n",
       "</style>\n",
       "<table border=\"1\" class=\"dataframe\">\n",
       "  <thead>\n",
       "    <tr style=\"text-align: right;\">\n",
       "      <th></th>\n",
       "      <th>0</th>\n",
       "      <th>1</th>\n",
       "      <th>2</th>\n",
       "      <th>3</th>\n",
       "      <th>4</th>\n",
       "      <th>5</th>\n",
       "      <th>6</th>\n",
       "      <th>7</th>\n",
       "      <th>8</th>\n",
       "      <th>9</th>\n",
       "      <th>...</th>\n",
       "      <th>91</th>\n",
       "      <th>92</th>\n",
       "      <th>93</th>\n",
       "      <th>94</th>\n",
       "      <th>95</th>\n",
       "      <th>96</th>\n",
       "      <th>97</th>\n",
       "      <th>98</th>\n",
       "      <th>99</th>\n",
       "      <th>100</th>\n",
       "    </tr>\n",
       "  </thead>\n",
       "  <tbody>\n",
       "    <tr>\n",
       "      <th>0</th>\n",
       "      <td>girl1_chair113.jpg</td>\n",
       "      <td>chair</td>\n",
       "      <td>169.22336</td>\n",
       "      <td>100.65133</td>\n",
       "      <td>-176.83078</td>\n",
       "      <td>172.41418</td>\n",
       "      <td>95.42514</td>\n",
       "      <td>-168.56890</td>\n",
       "      <td>174.40276</td>\n",
       "      <td>95.22239</td>\n",
       "      <td>...</td>\n",
       "      <td>-74.94151</td>\n",
       "      <td>169.35428</td>\n",
       "      <td>245.76121</td>\n",
       "      <td>-54.18222</td>\n",
       "      <td>170.86158</td>\n",
       "      <td>257.23218</td>\n",
       "      <td>-132.79347</td>\n",
       "      <td>162.85747</td>\n",
       "      <td>257.09365</td>\n",
       "      <td>-109.37694</td>\n",
       "    </tr>\n",
       "    <tr>\n",
       "      <th>1</th>\n",
       "      <td>girl2_chair105.jpg</td>\n",
       "      <td>chair</td>\n",
       "      <td>186.07258</td>\n",
       "      <td>94.28657</td>\n",
       "      <td>23.96739</td>\n",
       "      <td>183.95346</td>\n",
       "      <td>91.02365</td>\n",
       "      <td>19.29216</td>\n",
       "      <td>183.16904</td>\n",
       "      <td>91.32135</td>\n",
       "      <td>...</td>\n",
       "      <td>32.88076</td>\n",
       "      <td>179.51996</td>\n",
       "      <td>271.26281</td>\n",
       "      <td>-68.39649</td>\n",
       "      <td>185.97307</td>\n",
       "      <td>272.98824</td>\n",
       "      <td>18.63087</td>\n",
       "      <td>190.95989</td>\n",
       "      <td>275.44101</td>\n",
       "      <td>-85.40584</td>\n",
       "    </tr>\n",
       "    <tr>\n",
       "      <th>2</th>\n",
       "      <td>guy2_chair076_flipped.jpg</td>\n",
       "      <td>chair</td>\n",
       "      <td>171.74335</td>\n",
       "      <td>104.13264</td>\n",
       "      <td>-161.98461</td>\n",
       "      <td>171.19639</td>\n",
       "      <td>100.09763</td>\n",
       "      <td>-152.59674</td>\n",
       "      <td>171.72500</td>\n",
       "      <td>99.95775</td>\n",
       "      <td>...</td>\n",
       "      <td>61.71619</td>\n",
       "      <td>155.45043</td>\n",
       "      <td>279.93286</td>\n",
       "      <td>-15.13519</td>\n",
       "      <td>179.43227</td>\n",
       "      <td>286.79556</td>\n",
       "      <td>31.48036</td>\n",
       "      <td>176.41298</td>\n",
       "      <td>287.81515</td>\n",
       "      <td>-47.79021</td>\n",
       "    </tr>\n",
       "    <tr>\n",
       "      <th>3</th>\n",
       "      <td>girl3_chair132.jpg</td>\n",
       "      <td>chair</td>\n",
       "      <td>138.44002</td>\n",
       "      <td>155.35533</td>\n",
       "      <td>-250.67323</td>\n",
       "      <td>141.43345</td>\n",
       "      <td>153.48882</td>\n",
       "      <td>-255.23221</td>\n",
       "      <td>143.20740</td>\n",
       "      <td>153.85711</td>\n",
       "      <td>...</td>\n",
       "      <td>-32.27770</td>\n",
       "      <td>146.91974</td>\n",
       "      <td>215.91039</td>\n",
       "      <td>62.14866</td>\n",
       "      <td>146.23427</td>\n",
       "      <td>227.85920</td>\n",
       "      <td>-67.20390</td>\n",
       "      <td>140.70244</td>\n",
       "      <td>224.59740</td>\n",
       "      <td>30.94406</td>\n",
       "    </tr>\n",
       "    <tr>\n",
       "      <th>4</th>\n",
       "      <td>girl3_chair131_flipped.jpg</td>\n",
       "      <td>chair</td>\n",
       "      <td>158.95575</td>\n",
       "      <td>155.67246</td>\n",
       "      <td>-250.17040</td>\n",
       "      <td>160.13260</td>\n",
       "      <td>151.86371</td>\n",
       "      <td>-248.30956</td>\n",
       "      <td>161.28139</td>\n",
       "      <td>150.50583</td>\n",
       "      <td>...</td>\n",
       "      <td>65.58166</td>\n",
       "      <td>148.42978</td>\n",
       "      <td>221.29594</td>\n",
       "      <td>-23.33949</td>\n",
       "      <td>168.30679</td>\n",
       "      <td>220.62507</td>\n",
       "      <td>35.94082</td>\n",
       "      <td>158.83529</td>\n",
       "      <td>228.21847</td>\n",
       "      <td>-54.32943</td>\n",
       "    </tr>\n",
       "  </tbody>\n",
       "</table>\n",
       "<p>5 rows × 101 columns</p>\n",
       "</div>"
      ],
      "text/plain": [
       "                          0      1          2          3          4     \n",
       "0          girl1_chair113.jpg  chair  169.22336  100.65133 -176.83078  \\\n",
       "1          girl2_chair105.jpg  chair  186.07258   94.28657   23.96739   \n",
       "2   guy2_chair076_flipped.jpg  chair  171.74335  104.13264 -161.98461   \n",
       "3          girl3_chair132.jpg  chair  138.44002  155.35533 -250.67323   \n",
       "4  girl3_chair131_flipped.jpg  chair  158.95575  155.67246 -250.17040   \n",
       "\n",
       "         5          6          7          8          9    ...       91    \n",
       "0  172.41418   95.42514 -168.56890  174.40276   95.22239  ... -74.94151  \\\n",
       "1  183.95346   91.02365   19.29216  183.16904   91.32135  ...  32.88076   \n",
       "2  171.19639  100.09763 -152.59674  171.72500   99.95775  ...  61.71619   \n",
       "3  141.43345  153.48882 -255.23221  143.20740  153.85711  ... -32.27770   \n",
       "4  160.13260  151.86371 -248.30956  161.28139  150.50583  ...  65.58166   \n",
       "\n",
       "         92         93        94         95         96         97         98    \n",
       "0  169.35428  245.76121 -54.18222  170.86158  257.23218 -132.79347  162.85747  \\\n",
       "1  179.51996  271.26281 -68.39649  185.97307  272.98824   18.63087  190.95989   \n",
       "2  155.45043  279.93286 -15.13519  179.43227  286.79556   31.48036  176.41298   \n",
       "3  146.91974  215.91039  62.14866  146.23427  227.85920  -67.20390  140.70244   \n",
       "4  148.42978  221.29594 -23.33949  168.30679  220.62507   35.94082  158.83529   \n",
       "\n",
       "         99         100  \n",
       "0  257.09365 -109.37694  \n",
       "1  275.44101  -85.40584  \n",
       "2  287.81515  -47.79021  \n",
       "3  224.59740   30.94406  \n",
       "4  228.21847  -54.32943  \n",
       "\n",
       "[5 rows x 101 columns]"
      ]
     },
     "execution_count": 70,
     "metadata": {},
     "output_type": "execute_result"
    }
   ],
   "source": [
    "df.head()"
   ]
  },
  {
   "cell_type": "code",
   "execution_count": 71,
   "id": "70ff6e25",
   "metadata": {},
   "outputs": [
    {
     "data": {
      "text/plain": [
       "(2544, 101)"
      ]
     },
     "execution_count": 71,
     "metadata": {},
     "output_type": "execute_result"
    }
   ],
   "source": [
    "df.shape"
   ]
  },
  {
   "cell_type": "code",
   "execution_count": 72,
   "id": "25b00006",
   "metadata": {},
   "outputs": [
    {
     "data": {
      "text/plain": [
       "Index([  0,   1,   2,   3,   4,   5,   6,   7,   8,   9,\n",
       "       ...\n",
       "        91,  92,  93,  94,  95,  96,  97,  98,  99, 100],\n",
       "      dtype='int64', length=101)"
      ]
     },
     "execution_count": 72,
     "metadata": {},
     "output_type": "execute_result"
    }
   ],
   "source": [
    "df.columns"
   ]
  },
  {
   "cell_type": "code",
   "execution_count": 73,
   "id": "8f5ed876",
   "metadata": {},
   "outputs": [],
   "source": [
    "df.drop(0,axis=1,inplace=True)"
   ]
  },
  {
   "cell_type": "code",
   "execution_count": 74,
   "id": "891207c6",
   "metadata": {},
   "outputs": [
    {
     "data": {
      "text/plain": [
       "array([[ 169.22336,  100.65133, -176.83078, ...,  162.85747,  257.09365,\n",
       "        -109.37694],\n",
       "       [ 186.07258,   94.28657,   23.96739, ...,  190.95989,  275.44101,\n",
       "         -85.40584],\n",
       "       [ 171.74335,  104.13264, -161.98461, ...,  176.41298,  287.81515,\n",
       "         -47.79021],\n",
       "       ...,\n",
       "       [ 398.19064,  145.55058, -368.60132, ...,  381.54676,  727.15197,\n",
       "          16.68096],\n",
       "       [ 326.1998 ,   79.14401, -342.47997, ...,  333.83682,  433.58791,\n",
       "         -15.88974],\n",
       "       [ 413.20887,   80.69553, -341.38753, ...,  358.34675,  764.64844,\n",
       "          41.53072]])"
      ]
     },
     "execution_count": 74,
     "metadata": {},
     "output_type": "execute_result"
    }
   ],
   "source": [
    "df.iloc[:,1:].values"
   ]
  },
  {
   "cell_type": "code",
   "execution_count": 75,
   "id": "71e7b56a",
   "metadata": {},
   "outputs": [],
   "source": [
    "x = df.iloc[:,1:].values"
   ]
  },
  {
   "cell_type": "code",
   "execution_count": 76,
   "id": "68ee93f9",
   "metadata": {},
   "outputs": [],
   "source": [
    "lis = [x for x in df[1]]"
   ]
  },
  {
   "cell_type": "code",
   "execution_count": 77,
   "id": "26dfc56e",
   "metadata": {},
   "outputs": [],
   "source": [
    "le = LabelEncoder()"
   ]
  },
  {
   "cell_type": "code",
   "execution_count": 78,
   "id": "04042b0a",
   "metadata": {},
   "outputs": [
    {
     "data": {
      "text/html": [
       "<style>#sk-container-id-2 {color: black;background-color: white;}#sk-container-id-2 pre{padding: 0;}#sk-container-id-2 div.sk-toggleable {background-color: white;}#sk-container-id-2 label.sk-toggleable__label {cursor: pointer;display: block;width: 100%;margin-bottom: 0;padding: 0.3em;box-sizing: border-box;text-align: center;}#sk-container-id-2 label.sk-toggleable__label-arrow:before {content: \"▸\";float: left;margin-right: 0.25em;color: #696969;}#sk-container-id-2 label.sk-toggleable__label-arrow:hover:before {color: black;}#sk-container-id-2 div.sk-estimator:hover label.sk-toggleable__label-arrow:before {color: black;}#sk-container-id-2 div.sk-toggleable__content {max-height: 0;max-width: 0;overflow: hidden;text-align: left;background-color: #f0f8ff;}#sk-container-id-2 div.sk-toggleable__content pre {margin: 0.2em;color: black;border-radius: 0.25em;background-color: #f0f8ff;}#sk-container-id-2 input.sk-toggleable__control:checked~div.sk-toggleable__content {max-height: 200px;max-width: 100%;overflow: auto;}#sk-container-id-2 input.sk-toggleable__control:checked~label.sk-toggleable__label-arrow:before {content: \"▾\";}#sk-container-id-2 div.sk-estimator input.sk-toggleable__control:checked~label.sk-toggleable__label {background-color: #d4ebff;}#sk-container-id-2 div.sk-label input.sk-toggleable__control:checked~label.sk-toggleable__label {background-color: #d4ebff;}#sk-container-id-2 input.sk-hidden--visually {border: 0;clip: rect(1px 1px 1px 1px);clip: rect(1px, 1px, 1px, 1px);height: 1px;margin: -1px;overflow: hidden;padding: 0;position: absolute;width: 1px;}#sk-container-id-2 div.sk-estimator {font-family: monospace;background-color: #f0f8ff;border: 1px dotted black;border-radius: 0.25em;box-sizing: border-box;margin-bottom: 0.5em;}#sk-container-id-2 div.sk-estimator:hover {background-color: #d4ebff;}#sk-container-id-2 div.sk-parallel-item::after {content: \"\";width: 100%;border-bottom: 1px solid gray;flex-grow: 1;}#sk-container-id-2 div.sk-label:hover label.sk-toggleable__label {background-color: #d4ebff;}#sk-container-id-2 div.sk-serial::before {content: \"\";position: absolute;border-left: 1px solid gray;box-sizing: border-box;top: 0;bottom: 0;left: 50%;z-index: 0;}#sk-container-id-2 div.sk-serial {display: flex;flex-direction: column;align-items: center;background-color: white;padding-right: 0.2em;padding-left: 0.2em;position: relative;}#sk-container-id-2 div.sk-item {position: relative;z-index: 1;}#sk-container-id-2 div.sk-parallel {display: flex;align-items: stretch;justify-content: center;background-color: white;position: relative;}#sk-container-id-2 div.sk-item::before, #sk-container-id-2 div.sk-parallel-item::before {content: \"\";position: absolute;border-left: 1px solid gray;box-sizing: border-box;top: 0;bottom: 0;left: 50%;z-index: -1;}#sk-container-id-2 div.sk-parallel-item {display: flex;flex-direction: column;z-index: 1;position: relative;background-color: white;}#sk-container-id-2 div.sk-parallel-item:first-child::after {align-self: flex-end;width: 50%;}#sk-container-id-2 div.sk-parallel-item:last-child::after {align-self: flex-start;width: 50%;}#sk-container-id-2 div.sk-parallel-item:only-child::after {width: 0;}#sk-container-id-2 div.sk-dashed-wrapped {border: 1px dashed gray;margin: 0 0.4em 0.5em 0.4em;box-sizing: border-box;padding-bottom: 0.4em;background-color: white;}#sk-container-id-2 div.sk-label label {font-family: monospace;font-weight: bold;display: inline-block;line-height: 1.2em;}#sk-container-id-2 div.sk-label-container {text-align: center;}#sk-container-id-2 div.sk-container {/* jupyter's `normalize.less` sets `[hidden] { display: none; }` but bootstrap.min.css set `[hidden] { display: none !important; }` so we also need the `!important` here to be able to override the default hidden behavior on the sphinx rendered scikit-learn.org. See: https://github.com/scikit-learn/scikit-learn/issues/21755 */display: inline-block !important;position: relative;}#sk-container-id-2 div.sk-text-repr-fallback {display: none;}</style><div id=\"sk-container-id-2\" class=\"sk-top-container\"><div class=\"sk-text-repr-fallback\"><pre>LabelEncoder()</pre><b>In a Jupyter environment, please rerun this cell to show the HTML representation or trust the notebook. <br />On GitHub, the HTML representation is unable to render, please try loading this page with nbviewer.org.</b></div><div class=\"sk-container\" hidden><div class=\"sk-item\"><div class=\"sk-estimator sk-toggleable\"><input class=\"sk-toggleable__control sk-hidden--visually\" id=\"sk-estimator-id-2\" type=\"checkbox\" checked><label for=\"sk-estimator-id-2\" class=\"sk-toggleable__label sk-toggleable__label-arrow\">LabelEncoder</label><div class=\"sk-toggleable__content\"><pre>LabelEncoder()</pre></div></div></div></div></div>"
      ],
      "text/plain": [
       "LabelEncoder()"
      ]
     },
     "execution_count": 78,
     "metadata": {},
     "output_type": "execute_result"
    }
   ],
   "source": [
    "le.fit(df[1])"
   ]
  },
  {
   "cell_type": "code",
   "execution_count": 79,
   "id": "098c2805",
   "metadata": {},
   "outputs": [],
   "source": [
    "lis = le.transform(df[1])"
   ]
  },
  {
   "cell_type": "code",
   "execution_count": 80,
   "id": "0f55a412",
   "metadata": {},
   "outputs": [
    {
     "data": {
      "text/plain": [
       "array(['chair', 'traingle', 'warrior Balanced', 'tree', 'shoudler_stand',\n",
       "       'cobra', 'dog', 'warrior', 'no_pose'], dtype=object)"
      ]
     },
     "execution_count": 80,
     "metadata": {},
     "output_type": "execute_result"
    }
   ],
   "source": [
    "df[1].unique()"
   ]
  },
  {
   "cell_type": "code",
   "execution_count": 81,
   "id": "44023fc9",
   "metadata": {},
   "outputs": [
    {
     "data": {
      "text/plain": [
       "array([0, 0, 0, ..., 3, 3, 3])"
      ]
     },
     "execution_count": 81,
     "metadata": {},
     "output_type": "execute_result"
    }
   ],
   "source": [
    "lis"
   ]
  },
  {
   "cell_type": "code",
   "execution_count": 82,
   "id": "ec41e826",
   "metadata": {},
   "outputs": [],
   "source": [
    "import keras"
   ]
  },
  {
   "cell_type": "code",
   "execution_count": 83,
   "id": "a8892c41",
   "metadata": {},
   "outputs": [],
   "source": [
    "y = keras.utils.to_categorical(lis,num_classes=9)"
   ]
  },
  {
   "cell_type": "code",
   "execution_count": 84,
   "id": "e3332596",
   "metadata": {},
   "outputs": [
    {
     "data": {
      "text/plain": [
       "(2544, 9)"
      ]
     },
     "execution_count": 84,
     "metadata": {},
     "output_type": "execute_result"
    }
   ],
   "source": [
    "y.shape"
   ]
  },
  {
   "cell_type": "code",
   "execution_count": 85,
   "id": "38fbce93",
   "metadata": {},
   "outputs": [],
   "source": [
    "from sklearn.model_selection import train_test_split"
   ]
  },
  {
   "cell_type": "code",
   "execution_count": 86,
   "id": "bd3b4fbb",
   "metadata": {},
   "outputs": [],
   "source": [
    "x_train, x_test, y_train, y_test = train_test_split(x,y,random_state=42)"
   ]
  },
  {
   "cell_type": "code",
   "execution_count": 87,
   "id": "c5fc752a",
   "metadata": {},
   "outputs": [
    {
     "data": {
      "text/plain": [
       "(1908, 99)"
      ]
     },
     "execution_count": 87,
     "metadata": {},
     "output_type": "execute_result"
    }
   ],
   "source": [
    "x_train.shape"
   ]
  },
  {
   "cell_type": "code",
   "execution_count": 88,
   "id": "844ecb37",
   "metadata": {},
   "outputs": [],
   "source": [
    "from keras.layers import Dense, Dropout\n",
    "from keras.models import Sequential"
   ]
  },
  {
   "cell_type": "code",
   "execution_count": 89,
   "id": "ceb26249",
   "metadata": {},
   "outputs": [
    {
     "data": {
      "text/plain": [
       "(2544, 99)"
      ]
     },
     "execution_count": 89,
     "metadata": {},
     "output_type": "execute_result"
    }
   ],
   "source": [
    "x.shape"
   ]
  },
  {
   "cell_type": "code",
   "execution_count": 90,
   "id": "dad59e02",
   "metadata": {},
   "outputs": [
    {
     "name": "stdout",
     "output_type": "stream",
     "text": [
      "Model: \"sequential_1\"\n",
      "_________________________________________________________________\n",
      " Layer (type)                Output Shape              Param #   \n",
      "=================================================================\n",
      " dense_4 (Dense)             (None, 256)               25600     \n",
      "                                                                 \n",
      " dropout_2 (Dropout)         (None, 256)               0         \n",
      "                                                                 \n",
      " dense_5 (Dense)             (None, 128)               32896     \n",
      "                                                                 \n",
      " dropout_3 (Dropout)         (None, 128)               0         \n",
      "                                                                 \n",
      " dense_6 (Dense)             (None, 64)                8256      \n",
      "                                                                 \n",
      " dense_7 (Dense)             (None, 9)                 585       \n",
      "                                                                 \n",
      "=================================================================\n",
      "Total params: 67,337\n",
      "Trainable params: 67,337\n",
      "Non-trainable params: 0\n",
      "_________________________________________________________________\n"
     ]
    }
   ],
   "source": [
    "model = Sequential()\n",
    "model.add(Dense(256, activation='relu', input_dim=x.shape[1]))\n",
    "model.add(Dropout(.2))\n",
    "model.add(Dense(128, activation='relu'))\n",
    "model.add(Dropout(.2))\n",
    "model.add(Dense(64, activation='relu'))\n",
    "model.add(Dense(y.shape[1], activation='softmax'))\n",
    "model.compile(optimizer='adam', loss='categorical_crossentropy', metrics=['accuracy'])\n",
    "model.summary()"
   ]
  },
  {
   "cell_type": "code",
   "execution_count": 91,
   "id": "39616c18",
   "metadata": {},
   "outputs": [],
   "source": [
    "callback = keras.callbacks.EarlyStopping(monitor='loss', patience=20, min_delta =0.1 ,restore_best_weights=True)"
   ]
  },
  {
   "cell_type": "code",
   "execution_count": 92,
   "id": "25a0031b",
   "metadata": {},
   "outputs": [
    {
     "name": "stdout",
     "output_type": "stream",
     "text": [
      "Epoch 1/1000\n",
      "77/77 [==============================] - 1s 3ms/step - loss: 27.3883 - accuracy: 0.3422\n",
      "Epoch 2/1000\n",
      "77/77 [==============================] - 0s 3ms/step - loss: 6.3562 - accuracy: 0.4549\n",
      "Epoch 3/1000\n",
      "77/77 [==============================] - 0s 3ms/step - loss: 3.4136 - accuracy: 0.5246\n",
      "Epoch 4/1000\n",
      "77/77 [==============================] - 0s 3ms/step - loss: 2.3150 - accuracy: 0.5571\n",
      "Epoch 5/1000\n",
      "77/77 [==============================] - 0s 3ms/step - loss: 1.9451 - accuracy: 0.5839\n",
      "Epoch 6/1000\n",
      "77/77 [==============================] - 0s 3ms/step - loss: 1.6161 - accuracy: 0.6504\n",
      "Epoch 7/1000\n",
      "77/77 [==============================] - 0s 3ms/step - loss: 1.4905 - accuracy: 0.6410\n",
      "Epoch 8/1000\n",
      "77/77 [==============================] - 0s 3ms/step - loss: 1.2448 - accuracy: 0.6630\n",
      "Epoch 9/1000\n",
      "77/77 [==============================] - 0s 3ms/step - loss: 1.0899 - accuracy: 0.7254\n",
      "Epoch 10/1000\n",
      "77/77 [==============================] - 0s 3ms/step - loss: 0.9747 - accuracy: 0.7385\n",
      "Epoch 11/1000\n",
      "77/77 [==============================] - 0s 3ms/step - loss: 0.8170 - accuracy: 0.7631\n",
      "Epoch 12/1000\n",
      "77/77 [==============================] - 0s 3ms/step - loss: 0.9299 - accuracy: 0.7547\n",
      "Epoch 13/1000\n",
      "77/77 [==============================] - 0s 3ms/step - loss: 0.7749 - accuracy: 0.7636\n",
      "Epoch 14/1000\n",
      "77/77 [==============================] - 0s 3ms/step - loss: 0.8165 - accuracy: 0.7725\n",
      "Epoch 15/1000\n",
      "77/77 [==============================] - 0s 4ms/step - loss: 0.7712 - accuracy: 0.7898\n",
      "Epoch 16/1000\n",
      "77/77 [==============================] - 0s 3ms/step - loss: 0.7034 - accuracy: 0.7961\n",
      "Epoch 17/1000\n",
      "77/77 [==============================] - 0s 3ms/step - loss: 0.6501 - accuracy: 0.8187\n",
      "Epoch 18/1000\n",
      "77/77 [==============================] - 0s 3ms/step - loss: 0.6122 - accuracy: 0.8187\n",
      "Epoch 19/1000\n",
      "77/77 [==============================] - 0s 3ms/step - loss: 0.5342 - accuracy: 0.8286\n",
      "Epoch 20/1000\n",
      "77/77 [==============================] - 0s 4ms/step - loss: 0.5324 - accuracy: 0.8407\n",
      "Epoch 21/1000\n",
      "77/77 [==============================] - 0s 3ms/step - loss: 0.6318 - accuracy: 0.8213\n",
      "Epoch 22/1000\n",
      "77/77 [==============================] - 0s 3ms/step - loss: 0.6934 - accuracy: 0.8139\n",
      "Epoch 23/1000\n",
      "77/77 [==============================] - 0s 3ms/step - loss: 0.7015 - accuracy: 0.8056\n",
      "Epoch 24/1000\n",
      "77/77 [==============================] - 0s 3ms/step - loss: 0.6750 - accuracy: 0.8108\n",
      "Epoch 25/1000\n",
      "77/77 [==============================] - 0s 3ms/step - loss: 0.6137 - accuracy: 0.8265\n",
      "Epoch 26/1000\n",
      "77/77 [==============================] - 0s 3ms/step - loss: 0.5539 - accuracy: 0.8318\n",
      "Epoch 27/1000\n",
      "77/77 [==============================] - 0s 3ms/step - loss: 0.5071 - accuracy: 0.8496\n",
      "Epoch 28/1000\n",
      "77/77 [==============================] - 0s 4ms/step - loss: 0.6190 - accuracy: 0.8260\n",
      "Epoch 29/1000\n",
      "77/77 [==============================] - 0s 3ms/step - loss: 0.4662 - accuracy: 0.8711\n",
      "Epoch 30/1000\n",
      "77/77 [==============================] - 0s 3ms/step - loss: 0.4779 - accuracy: 0.8622\n",
      "Epoch 31/1000\n",
      "77/77 [==============================] - 0s 4ms/step - loss: 0.4663 - accuracy: 0.8475\n",
      "Epoch 32/1000\n",
      "77/77 [==============================] - 0s 3ms/step - loss: 0.4012 - accuracy: 0.8737\n",
      "Epoch 33/1000\n",
      "77/77 [==============================] - 0s 3ms/step - loss: 0.3964 - accuracy: 0.8816\n",
      "Epoch 34/1000\n",
      "77/77 [==============================] - 0s 3ms/step - loss: 0.5488 - accuracy: 0.8375\n",
      "Epoch 35/1000\n",
      "77/77 [==============================] - 0s 5ms/step - loss: 0.4111 - accuracy: 0.8711\n",
      "Epoch 36/1000\n",
      "77/77 [==============================] - 0s 3ms/step - loss: 0.3906 - accuracy: 0.8800\n",
      "Epoch 37/1000\n",
      "77/77 [==============================] - 0s 3ms/step - loss: 0.4319 - accuracy: 0.8763\n",
      "Epoch 38/1000\n",
      "77/77 [==============================] - 0s 3ms/step - loss: 0.4317 - accuracy: 0.8732\n",
      "Epoch 39/1000\n",
      "77/77 [==============================] - 0s 3ms/step - loss: 0.4573 - accuracy: 0.8847\n",
      "Epoch 40/1000\n",
      "77/77 [==============================] - 0s 3ms/step - loss: 0.4229 - accuracy: 0.8847\n",
      "Epoch 41/1000\n",
      "77/77 [==============================] - 0s 4ms/step - loss: 0.3913 - accuracy: 0.8826\n",
      "Epoch 42/1000\n",
      "77/77 [==============================] - 0s 2ms/step - loss: 0.3736 - accuracy: 0.8962\n",
      "Epoch 43/1000\n",
      "77/77 [==============================] - 0s 2ms/step - loss: 0.3070 - accuracy: 0.9072\n",
      "Epoch 44/1000\n",
      "77/77 [==============================] - 0s 2ms/step - loss: 0.3915 - accuracy: 0.8878\n",
      "Epoch 45/1000\n",
      "77/77 [==============================] - 0s 3ms/step - loss: 0.5055 - accuracy: 0.8653\n",
      "Epoch 46/1000\n",
      "77/77 [==============================] - 0s 3ms/step - loss: 0.3686 - accuracy: 0.8931\n",
      "Epoch 47/1000\n",
      "77/77 [==============================] - 0s 3ms/step - loss: 0.3563 - accuracy: 0.8988\n",
      "Epoch 48/1000\n",
      "77/77 [==============================] - 0s 2ms/step - loss: 0.2715 - accuracy: 0.9172\n",
      "Epoch 49/1000\n",
      "77/77 [==============================] - 0s 4ms/step - loss: 0.2883 - accuracy: 0.9156\n",
      "Epoch 50/1000\n",
      "77/77 [==============================] - 0s 4ms/step - loss: 0.2755 - accuracy: 0.9172\n",
      "Epoch 51/1000\n",
      "77/77 [==============================] - 0s 3ms/step - loss: 0.2729 - accuracy: 0.9256\n",
      "Epoch 52/1000\n",
      "77/77 [==============================] - 0s 2ms/step - loss: 0.4145 - accuracy: 0.9009\n",
      "Epoch 53/1000\n",
      "77/77 [==============================] - 0s 3ms/step - loss: 0.3558 - accuracy: 0.8894\n",
      "Epoch 54/1000\n",
      "77/77 [==============================] - 0s 3ms/step - loss: 0.4115 - accuracy: 0.8768\n",
      "Epoch 55/1000\n",
      "77/77 [==============================] - 0s 3ms/step - loss: 0.3116 - accuracy: 0.9109\n",
      "Epoch 56/1000\n",
      "77/77 [==============================] - 0s 3ms/step - loss: 0.2977 - accuracy: 0.9036\n",
      "Epoch 57/1000\n",
      "77/77 [==============================] - 0s 4ms/step - loss: 0.3496 - accuracy: 0.9041\n",
      "Epoch 58/1000\n",
      "77/77 [==============================] - 0s 3ms/step - loss: 0.3718 - accuracy: 0.9130\n",
      "Epoch 59/1000\n",
      "77/77 [==============================] - 0s 3ms/step - loss: 0.3960 - accuracy: 0.9051\n",
      "Epoch 60/1000\n",
      "77/77 [==============================] - 0s 3ms/step - loss: 0.3847 - accuracy: 0.8905\n",
      "Epoch 61/1000\n",
      "77/77 [==============================] - 0s 3ms/step - loss: 0.4655 - accuracy: 0.8721\n",
      "Epoch 62/1000\n",
      "77/77 [==============================] - 0s 3ms/step - loss: 0.2835 - accuracy: 0.9230\n",
      "Epoch 63/1000\n",
      "77/77 [==============================] - 0s 4ms/step - loss: 0.2461 - accuracy: 0.9230\n",
      "Epoch 64/1000\n",
      "77/77 [==============================] - 0s 3ms/step - loss: 0.1888 - accuracy: 0.9434\n",
      "Epoch 65/1000\n",
      "77/77 [==============================] - 0s 3ms/step - loss: 0.2005 - accuracy: 0.9403\n",
      "Epoch 66/1000\n",
      "77/77 [==============================] - 0s 3ms/step - loss: 0.3410 - accuracy: 0.9114\n",
      "Epoch 67/1000\n",
      "77/77 [==============================] - 0s 3ms/step - loss: 0.3104 - accuracy: 0.9104\n",
      "Epoch 68/1000\n",
      "77/77 [==============================] - 0s 3ms/step - loss: 0.3126 - accuracy: 0.9219\n"
     ]
    }
   ],
   "source": [
    "history = model.fit(x_train, y_train, batch_size=25,epochs=1000,callbacks=[callback])"
   ]
  },
  {
   "cell_type": "code",
   "execution_count": 93,
   "id": "3789f617",
   "metadata": {},
   "outputs": [
    {
     "name": "stderr",
     "output_type": "stream",
     "text": [
      "2023-05-30 20:54:17.982967: I tensorflow/core/common_runtime/executor.cc:1197] [/device:CPU:0] (DEBUG INFO) Executor start aborting (this does not indicate an error and you can ignore this message): INVALID_ARGUMENT: You must feed a value for placeholder tensor 'inputs' with dtype float and shape [?,256]\n",
      "\t [[{{node inputs}}]]\n",
      "2023-05-30 20:54:18.021223: I tensorflow/core/common_runtime/executor.cc:1197] [/device:CPU:0] (DEBUG INFO) Executor start aborting (this does not indicate an error and you can ignore this message): INVALID_ARGUMENT: You must feed a value for placeholder tensor 'inputs' with dtype float and shape [?,128]\n",
      "\t [[{{node inputs}}]]\n",
      "2023-05-30 20:54:18.469208: I tensorflow/core/common_runtime/executor.cc:1197] [/device:CPU:0] (DEBUG INFO) Executor start aborting (this does not indicate an error and you can ignore this message): INVALID_ARGUMENT: You must feed a value for placeholder tensor 'inputs' with dtype float and shape [?,256]\n",
      "\t [[{{node inputs}}]]\n",
      "2023-05-30 20:54:18.525615: I tensorflow/core/common_runtime/executor.cc:1197] [/device:CPU:0] (DEBUG INFO) Executor start aborting (this does not indicate an error and you can ignore this message): INVALID_ARGUMENT: You must feed a value for placeholder tensor 'inputs' with dtype float and shape [?,128]\n",
      "\t [[{{node inputs}}]]\n",
      "WARNING:absl:Found untraced functions such as _update_step_xla while saving (showing 1 of 1). These functions will not be directly callable after loading.\n"
     ]
    },
    {
     "name": "stdout",
     "output_type": "stream",
     "text": [
      "INFO:tensorflow:Assets written to: model/assets\n"
     ]
    },
    {
     "name": "stderr",
     "output_type": "stream",
     "text": [
      "INFO:tensorflow:Assets written to: model/assets\n"
     ]
    }
   ],
   "source": [
    "model.save(\"model\")"
   ]
  },
  {
   "cell_type": "code",
   "execution_count": 94,
   "id": "5c6ca755",
   "metadata": {},
   "outputs": [
    {
     "name": "stdout",
     "output_type": "stream",
     "text": [
      "20/20 [==============================] - 0s 2ms/step\n"
     ]
    },
    {
     "data": {
      "text/plain": [
       "array([[8.5243833e-01, 1.1508827e-05, 3.8731341e-06, ..., 1.1040691e-01,\n",
       "        2.9043164e-02, 7.0936297e-04],\n",
       "       [2.2442503e-16, 5.8252621e-09, 9.9999958e-01, ..., 1.3518476e-13,\n",
       "        5.2700484e-09, 8.2881157e-10],\n",
       "       [0.0000000e+00, 0.0000000e+00, 9.9999994e-01, ..., 0.0000000e+00,\n",
       "        0.0000000e+00, 0.0000000e+00],\n",
       "       ...,\n",
       "       [1.3782707e-02, 3.8755694e-05, 3.3228632e-04, ..., 9.7968310e-01,\n",
       "        4.4197887e-03, 1.6420784e-04],\n",
       "       [6.4850549e-11, 3.0466589e-07, 9.9948043e-01, ..., 5.5994659e-10,\n",
       "        1.5424424e-05, 5.0364912e-04],\n",
       "       [2.4136261e-07, 3.6241770e-05, 9.8611706e-01, ..., 3.4262135e-07,\n",
       "        1.8570045e-04, 1.3561534e-02]], dtype=float32)"
      ]
     },
     "execution_count": 94,
     "metadata": {},
     "output_type": "execute_result"
    }
   ],
   "source": [
    "model.predict(x_test)"
   ]
  },
  {
   "cell_type": "code",
   "execution_count": 95,
   "id": "419f06dc",
   "metadata": {},
   "outputs": [
    {
     "name": "stdout",
     "output_type": "stream",
     "text": [
      "20/20 [==============================] - 0s 3ms/step - loss: 0.2983 - accuracy: 0.9513\n"
     ]
    },
    {
     "data": {
      "text/plain": [
       "[0.2983179986476898, 0.9512578845024109]"
      ]
     },
     "execution_count": 95,
     "metadata": {},
     "output_type": "execute_result"
    }
   ],
   "source": [
    "model.evaluate(x_test,y_test)"
   ]
  },
  {
   "cell_type": "code",
   "execution_count": 96,
   "id": "1e180ebd",
   "metadata": {},
   "outputs": [
    {
     "data": {
      "text/plain": [
       "[array([[ 0.06161332, -0.11456384,  0.10003474, ..., -0.06764895,\n",
       "         -0.06690582, -0.12889852],\n",
       "        [ 0.05018184,  0.11470892,  0.04976233, ..., -0.00503258,\n",
       "         -0.0969696 ,  0.00695337],\n",
       "        [-0.02210096,  0.10371587, -0.02606583, ..., -0.00318382,\n",
       "          0.11826818,  0.00270424],\n",
       "        ...,\n",
       "        [ 0.02555225, -0.13829172,  0.12736723, ..., -0.07354182,\n",
       "         -0.09597609,  0.01682347],\n",
       "        [ 0.01986338,  0.08114799,  0.1072642 , ...,  0.04795874,\n",
       "         -0.0682776 ,  0.08024067],\n",
       "        [-0.11891891,  0.00138167,  0.02743996, ...,  0.06633289,\n",
       "         -0.17398168, -0.04217749]], dtype=float32),\n",
       " array([-1.97972208e-02, -2.14659907e-02,  1.92883685e-02, -8.11673794e-03,\n",
       "        -1.56329907e-02, -6.88633174e-02, -1.22049730e-02, -3.22576798e-02,\n",
       "        -5.14228176e-03, -1.26561727e-02, -1.22407386e-02, -1.28109064e-02,\n",
       "         7.20164832e-03, -1.47156678e-02,  8.89929309e-02,  7.26072714e-02,\n",
       "        -8.82665068e-03, -5.82639426e-02, -1.18379489e-01, -1.43679427e-02,\n",
       "        -1.05832005e-02,  0.00000000e+00,  1.57117064e-03, -1.24355247e-02,\n",
       "        -4.07141410e-02, -2.63125058e-02,  1.43173337e-02,  5.75621054e-03,\n",
       "         8.33985303e-03,  2.00209823e-02, -4.69621620e-04, -7.52026262e-03,\n",
       "         0.00000000e+00, -7.07224682e-02, -6.13609515e-02, -8.06461088e-03,\n",
       "        -1.53643578e-01, -6.15576133e-02, -6.45210668e-02, -9.96543374e-03,\n",
       "        -1.56790540e-02,  1.29788939e-04, -1.02072433e-02, -1.60373837e-01,\n",
       "        -4.80463654e-02, -3.32108028e-02, -2.39686131e-01,  4.40992042e-02,\n",
       "         1.06494822e-01, -4.52324795e-03, -8.90112761e-03, -8.26741103e-03,\n",
       "        -7.51449680e-03, -4.03445736e-02, -2.21098457e-02, -8.50220956e-03,\n",
       "        -5.98195335e-03, -6.35331438e-04, -5.35052828e-02, -2.49261949e-02,\n",
       "         3.14881443e-03,  4.58185328e-03, -5.99892857e-03, -1.91474091e-02,\n",
       "         2.32686307e-02, -1.77368261e-02, -5.32466173e-03, -1.56319961e-02,\n",
       "         2.62273429e-03,  7.34731881e-03, -3.62152196e-02, -7.70638883e-02,\n",
       "         2.88035087e-02, -4.25729044e-02, -5.67059554e-02,  8.50234181e-03,\n",
       "        -2.37192139e-02,  5.16820662e-02, -1.52651686e-02,  4.76921814e-05,\n",
       "         5.41404858e-02, -1.63659193e-02,  6.50784513e-03, -9.27672349e-03,\n",
       "         1.82594522e-03, -9.27743465e-02, -3.97176966e-02,  1.78391133e-02,\n",
       "        -4.38964479e-02, -2.90370770e-02,  1.65370330e-02, -5.37145371e-03,\n",
       "        -5.53757790e-03, -2.15687528e-02, -3.19785178e-02, -3.79149653e-02,\n",
       "         4.84718233e-02,  5.39380983e-02, -4.44567837e-02, -7.18054622e-02,\n",
       "         4.76539321e-02, -5.86929210e-02,  3.51297334e-02,  0.00000000e+00,\n",
       "         7.63005391e-02,  3.73302959e-03, -5.81472851e-02, -5.06131686e-02,\n",
       "        -8.57761316e-03, -2.47820038e-02, -6.02080207e-03, -9.44780409e-02,\n",
       "        -1.60350166e-02, -9.97172762e-03, -2.89606280e-03, -1.14256598e-01,\n",
       "        -1.15919851e-01, -2.59407945e-02, -4.78638262e-02, -4.84046526e-02,\n",
       "        -4.42153737e-02, -4.41245548e-02, -8.73664469e-02, -6.28841147e-02,\n",
       "        -5.26947081e-02, -1.87117442e-01,  3.18939909e-02, -6.59816265e-02,\n",
       "        -1.26547739e-02, -5.07361256e-03,  3.01014353e-02, -3.18890763e-03,\n",
       "         2.19618175e-02, -2.90606990e-02, -1.79269426e-02,  5.98808099e-03,\n",
       "        -1.60295274e-02,  1.13025028e-02, -1.75391417e-02,  9.14762449e-03,\n",
       "        -7.63785839e-02, -9.36535187e-03, -5.11659542e-03, -1.71439163e-02,\n",
       "        -7.32823089e-02, -2.14864239e-02, -6.49710745e-03, -1.17458021e-02,\n",
       "         0.00000000e+00, -5.99802705e-03, -2.09502578e-01, -3.77228148e-02,\n",
       "         0.00000000e+00,  2.30090991e-02,  7.40521355e-03, -9.92454439e-02,\n",
       "        -1.29967719e-01, -9.24589951e-03, -8.01122747e-03,  2.52660224e-03,\n",
       "        -6.48548780e-03, -4.51054350e-02, -7.72039443e-02, -1.70542318e-02,\n",
       "         3.60234305e-02, -2.47180723e-02, -3.59509476e-02,  2.59006862e-03,\n",
       "        -2.29915585e-02, -9.53498390e-03, -5.21226367e-03, -3.26082064e-03,\n",
       "        -4.87657916e-03, -1.08457999e-02, -2.98046581e-02, -7.77177745e-03,\n",
       "         6.69520870e-02, -1.72291603e-02, -7.07415771e-03, -1.56286377e-02,\n",
       "        -2.04198658e-02, -1.83057487e-02, -4.85685933e-03, -1.17618879e-02,\n",
       "        -9.10417363e-03, -6.76091155e-03, -9.34689399e-03, -9.76156220e-02,\n",
       "        -8.96321237e-02,  0.00000000e+00, -2.27541048e-02, -2.02599894e-02,\n",
       "        -8.48980993e-03,  2.80144271e-02, -7.80509179e-03, -3.10090557e-02,\n",
       "        -2.51617488e-02,  4.81511578e-02,  2.37156879e-02,  1.69726927e-02,\n",
       "         8.68295506e-02,  2.13828613e-03,  3.19711119e-02,  4.98485528e-02,\n",
       "        -2.29139056e-04, -2.76399478e-02, -3.15995626e-02, -1.24283470e-02,\n",
       "        -9.75347590e-03,  2.22187191e-02, -1.93295665e-02,  8.10420215e-02,\n",
       "        -1.27420509e-02, -8.75647366e-03,  3.81962620e-02,  2.41898210e-03,\n",
       "        -2.38969587e-02,  2.11324561e-02, -7.96637237e-02, -3.40898037e-02,\n",
       "        -3.77776707e-03, -2.29382478e-02, -6.94065541e-03, -7.38783041e-03,\n",
       "        -9.83098522e-03, -4.27416079e-02,  2.54204720e-02,  1.29618291e-02,\n",
       "         1.17452145e-01,  0.00000000e+00,  7.40589108e-03,  6.85025826e-02,\n",
       "         7.51131177e-02, -1.73211135e-02, -1.68345887e-02,  3.95171903e-03,\n",
       "        -1.40238041e-02,  6.90312544e-03, -3.69414059e-03, -1.47753523e-03,\n",
       "        -6.70429468e-02,  0.00000000e+00, -2.62454548e-03, -1.68801799e-01,\n",
       "         4.69908584e-03, -3.27982791e-02, -8.31968933e-02, -6.19146181e-03,\n",
       "         0.00000000e+00, -1.51128098e-02,  7.39317536e-02, -1.02089876e-02,\n",
       "        -1.49426917e-02, -7.51936063e-03,  2.87470911e-02, -1.09902464e-01],\n",
       "       dtype=float32),\n",
       " array([[ 0.08456224, -0.10804316, -0.02451357, ..., -0.03618897,\n",
       "         -0.12353101, -0.04911514],\n",
       "        [ 0.07730644, -0.06943392,  0.14362134, ...,  0.06745135,\n",
       "          0.01785108,  0.09841318],\n",
       "        [-0.09544978, -0.03362809,  0.04906388, ..., -0.11172888,\n",
       "         -0.01287646, -0.08000017],\n",
       "        ...,\n",
       "        [ 0.01016123,  0.01828961, -0.02525529, ..., -0.04800337,\n",
       "          0.05355407, -0.03050894],\n",
       "        [ 0.02644351, -0.05582184, -0.11910055, ...,  0.05787514,\n",
       "         -0.11770434, -0.04957986],\n",
       "        [-0.09696011, -0.09616624, -0.08614064, ..., -0.10560648,\n",
       "         -0.02690453,  0.09222961]], dtype=float32),\n",
       " array([-0.06042648,  0.18191202, -0.08954828, -0.05773133, -0.12422928,\n",
       "         0.06611345, -0.05481463, -0.07515441,  0.15968576, -0.01255307,\n",
       "        -0.12685396, -0.01487742, -0.06002002,  0.12163499,  0.05774231,\n",
       "        -0.08220682, -0.05250448, -0.04697135, -0.00505943,  0.0793509 ,\n",
       "        -0.04721332,  0.2786661 , -0.10057558, -0.10757583, -0.0664763 ,\n",
       "        -0.09806084, -0.02000001, -0.13994534, -0.13202651, -0.03027171,\n",
       "         0.00941495, -0.02818953, -0.09120577, -0.13428532, -0.10092697,\n",
       "        -0.07614664, -0.21430445, -0.16480412, -0.0480383 ,  0.04158144,\n",
       "        -0.06631183, -0.00474197, -0.11394037, -0.09307007, -0.02162194,\n",
       "        -0.0552679 , -0.04245216, -0.05852829, -0.0385327 ,  0.1402095 ,\n",
       "        -0.02771166, -0.11764972,  0.00588193,  0.22868629, -0.13611212,\n",
       "         0.13941936, -0.04874448, -0.05899579, -0.1770332 ,  0.02826225,\n",
       "        -0.14732336,  0.03169354,  0.12505691, -0.09459303, -0.11633405,\n",
       "        -0.07096757,  0.07130576, -0.09441411, -0.06166918,  0.01829833,\n",
       "        -0.27865088, -0.07275253, -0.1947216 , -0.05272815,  0.03599826,\n",
       "         0.03419659, -0.10876828, -0.05071093, -0.06898523,  0.0391837 ,\n",
       "        -0.17305489, -0.01648633, -0.09426414, -0.17444026,  0.06415727,\n",
       "        -0.05797074, -0.09080855,  0.15314575,  0.03508932, -0.00621928,\n",
       "         0.01886274, -0.0359903 , -0.01572247, -0.07027659,  0.12843055,\n",
       "        -0.1032994 , -0.08647052, -0.03501333, -0.02997407, -0.04162084,\n",
       "        -0.06501929, -0.1022764 , -0.03277387, -0.22616708, -0.06144816,\n",
       "         0.00166407, -0.07663508, -0.18390778, -0.02662245, -0.12648296,\n",
       "         0.06365874, -0.16995735, -0.04395304, -0.07265048, -0.0785834 ,\n",
       "        -0.02474851, -0.06107411, -0.09154283, -0.00975547, -0.09370133,\n",
       "        -0.04210484,  0.15751976, -0.17666864,  0.05593922, -0.09409749,\n",
       "        -0.06072649, -0.12495855, -0.21800953], dtype=float32),\n",
       " array([[-0.13972987, -0.07124489, -0.02260659, ..., -0.12461407,\n",
       "          0.15452752,  0.04547104],\n",
       "        [-0.069355  ,  0.05032407, -0.04512757, ...,  0.1677633 ,\n",
       "          0.09654381, -0.10770077],\n",
       "        [-0.03822982, -0.03784274, -0.04750898, ...,  0.04693402,\n",
       "          0.14122078,  0.11980053],\n",
       "        ...,\n",
       "        [ 0.1698397 ,  0.1319255 ,  0.04191623, ..., -0.12426571,\n",
       "         -0.02414505,  0.14948386],\n",
       "        [ 0.15216151,  0.01658261,  0.0146441 , ...,  0.08930787,\n",
       "         -0.12018576,  0.00275891],\n",
       "        [ 0.11814392, -0.14712812, -0.13806361, ...,  0.13326387,\n",
       "          0.133194  , -0.07251555]], dtype=float32),\n",
       " array([ 0.01818267, -0.25185364,  0.90230113, -0.16936935, -0.46283063,\n",
       "        -0.47743338, -0.31121987, -0.18156831, -0.13677889,  0.16845001,\n",
       "        -0.56629145, -0.12102287,  0.15513335, -0.08290052, -0.45335907,\n",
       "        -0.2688682 ,  0.62417024,  0.6249412 , -0.43551946,  0.45626387,\n",
       "         0.81430894,  0.03175092, -0.26677287, -0.19606648, -0.47127834,\n",
       "        -0.3302771 ,  0.02811089, -0.4693128 , -0.17589308,  0.22547176,\n",
       "         0.0785154 , -0.09868094, -0.40343326, -0.70153904,  0.01538295,\n",
       "        -0.4706202 ,  0.27650067, -0.31511536,  0.02608838, -0.20881501,\n",
       "         0.6637452 , -0.5348245 , -0.26747456, -0.13320307, -0.2842024 ,\n",
       "        -0.10260476, -0.26522923, -0.04844658,  0.08799472, -0.5648961 ,\n",
       "        -0.10292812, -0.08924177,  0.7510692 , -0.03154172,  0.2666876 ,\n",
       "        -0.48371592, -0.11399975, -0.15511225,  0.8640186 , -0.7845102 ,\n",
       "        -0.30241188, -0.40324947, -0.1840681 , -0.6436331 ], dtype=float32),\n",
       " array([[ 2.98393425e-03,  1.53771684e-01, -1.83767565e-02,\n",
       "         -8.43974128e-02, -2.33914539e-01, -8.83319974e-02,\n",
       "         -2.05136836e-01, -4.32281867e-02, -1.14883840e-01],\n",
       "        [ 2.67587090e-03,  1.46830887e-01, -1.57849431e-01,\n",
       "         -4.76052314e-02,  2.10406646e-01, -1.25641963e-02,\n",
       "         -1.43581897e-01,  2.72666886e-02,  1.20674789e-01],\n",
       "        [ 2.47079954e-02,  1.69998929e-01,  6.10556118e-02,\n",
       "          7.99198598e-02,  1.28532022e-01, -6.74787015e-02,\n",
       "          2.43021533e-01, -1.40774354e-01,  1.41038612e-01],\n",
       "        [-1.53941810e-01,  1.60364062e-01,  2.25187585e-01,\n",
       "          6.42022933e-04,  1.16635531e-01,  1.03372864e-01,\n",
       "          3.81164439e-02, -1.69054791e-01, -1.03994898e-01],\n",
       "        [-1.32476181e-01,  7.38258958e-02, -2.21571416e-01,\n",
       "         -3.11872661e-02, -1.23274736e-01,  1.76847115e-01,\n",
       "         -5.63071482e-02,  1.41604394e-01, -1.39619142e-01],\n",
       "        [-5.65037318e-02, -1.39440164e-01,  7.71125257e-02,\n",
       "         -9.83584151e-02, -5.36618084e-02, -7.84189105e-02,\n",
       "         -1.76944554e-01,  9.99958739e-02, -4.37968150e-02],\n",
       "        [ 1.90549761e-01,  6.57249242e-02, -1.52264843e-02,\n",
       "         -6.91564977e-02,  1.98928624e-01, -4.21925187e-02,\n",
       "         -1.74278542e-01,  1.71102405e-01,  1.04205750e-01],\n",
       "        [ 2.42561866e-02,  1.27668336e-01,  1.32353500e-01,\n",
       "          6.44268095e-02,  2.59058565e-01,  1.48188947e-02,\n",
       "          1.24617442e-01,  1.45489708e-01,  5.46750575e-02],\n",
       "        [-5.99572062e-02, -4.79781888e-02, -9.39754769e-02,\n",
       "          1.80704713e-01,  1.43206045e-01,  2.61662990e-01,\n",
       "          2.35026017e-01,  1.26403436e-01,  1.45068437e-01],\n",
       "        [ 5.39145730e-02,  5.75539321e-02,  9.58423242e-02,\n",
       "          9.73263383e-02, -1.58299863e-01,  3.07617225e-02,\n",
       "          1.09194525e-01,  5.24917953e-02, -1.53172061e-01],\n",
       "        [-4.58021611e-02,  1.77034080e-01,  8.41220766e-02,\n",
       "          5.07679023e-02,  6.74866140e-02,  1.11201502e-01,\n",
       "         -3.38479578e-02,  1.14050224e-01, -1.63481012e-02],\n",
       "        [-1.40746132e-01, -1.06173009e-03,  6.53741881e-02,\n",
       "          3.57878134e-02, -2.07536906e-01,  6.08568005e-02,\n",
       "         -1.40191644e-01, -9.11795348e-03,  5.85973961e-04],\n",
       "        [ 2.20216468e-01, -1.16032004e-01, -1.05154239e-01,\n",
       "          9.88220945e-02,  1.64525062e-01,  1.91596463e-01,\n",
       "         -1.37581257e-02, -1.10404544e-01,  8.99029076e-02],\n",
       "        [-2.16288015e-01, -2.11495399e-01,  1.21476851e-01,\n",
       "         -1.34199172e-01,  5.70473373e-02, -5.47913276e-02,\n",
       "          1.30094856e-01,  1.55930035e-02, -1.71721220e-01],\n",
       "        [-1.62917584e-01,  3.50379013e-02, -2.57663190e-01,\n",
       "          7.31288046e-02, -1.99958220e-01, -1.19501270e-01,\n",
       "         -2.08408281e-01, -4.06175591e-02,  1.85786951e-02],\n",
       "        [ 1.69322461e-01, -9.04712155e-02,  1.47076488e-01,\n",
       "          2.81997979e-01, -7.20166862e-02,  2.28328630e-01,\n",
       "         -2.08985701e-01, -4.86955941e-02,  1.29792362e-01],\n",
       "        [ 8.96648169e-02,  2.26391517e-02, -1.48510173e-01,\n",
       "          1.76167160e-01, -2.63512462e-01,  2.13097900e-01,\n",
       "          2.30281815e-01,  3.60872373e-02, -7.64509961e-02],\n",
       "        [-2.32536927e-01, -3.02406121e-02,  5.62851727e-02,\n",
       "         -2.07655743e-01, -1.89931095e-01, -4.73844856e-02,\n",
       "          9.76748168e-02, -2.17936903e-01,  4.86847050e-02],\n",
       "        [-7.97388256e-02, -1.38231128e-01, -1.82195649e-01,\n",
       "          6.82266504e-02,  1.42641827e-01, -1.69318527e-01,\n",
       "         -1.69303656e-01,  7.26636276e-02,  1.07943207e-01],\n",
       "        [-1.56166311e-02, -7.57863000e-02, -2.16391549e-01,\n",
       "         -1.50449455e-01, -3.76617201e-02, -2.08554417e-01,\n",
       "         -2.46514902e-01, -1.60817713e-01,  9.34305191e-02],\n",
       "        [ 5.50149307e-02, -1.20772608e-01,  1.17377222e-01,\n",
       "         -1.91996515e-01, -2.11252496e-01,  1.40401319e-01,\n",
       "          1.50122643e-01, -1.36682466e-01,  3.00876591e-02],\n",
       "        [-2.41148680e-01,  2.73273457e-02, -4.33618687e-02,\n",
       "          5.62079623e-02, -2.13614270e-01, -6.64120018e-02,\n",
       "         -2.51547068e-01, -3.51173095e-02, -2.05476414e-02],\n",
       "        [-1.57572538e-01,  1.78715855e-01,  1.76699862e-01,\n",
       "          1.25279218e-01,  1.65849552e-01,  2.40330651e-01,\n",
       "          2.47484706e-02,  1.49620296e-02, -1.23730870e-02],\n",
       "        [-2.45569810e-01,  1.14524804e-01, -2.18270108e-01,\n",
       "         -2.32072096e-04,  2.31349587e-01,  1.19191445e-02,\n",
       "          2.28067353e-01, -2.75831819e-02, -8.24321806e-02],\n",
       "        [-2.24708095e-01, -9.94838625e-02,  1.66748062e-01,\n",
       "          1.34376615e-01, -1.34954289e-01,  3.87442000e-02,\n",
       "         -1.70697913e-01,  1.33902073e-01, -1.02927499e-01],\n",
       "        [-1.98309898e-01, -2.54599780e-01,  1.15961377e-02,\n",
       "          1.37613371e-01,  5.44539131e-02,  7.80903269e-03,\n",
       "          7.12647513e-02, -1.97492689e-02, -1.81631297e-01],\n",
       "        [ 1.89669520e-01,  9.05190781e-03,  7.43085667e-02,\n",
       "          1.09062336e-01,  2.23638001e-03,  1.88277945e-01,\n",
       "          9.26112942e-03,  8.35382938e-02,  1.84228852e-01],\n",
       "        [-9.71348807e-02,  2.18425207e-02, -5.87758189e-03,\n",
       "         -8.30933675e-02,  6.27204999e-02, -1.48696274e-01,\n",
       "          1.40625564e-02,  1.89963013e-01,  1.37713477e-01],\n",
       "        [ 2.02649742e-01, -8.13881010e-02, -6.91051632e-02,\n",
       "          1.60992980e-01, -1.91931143e-01,  1.69840492e-02,\n",
       "         -3.46855558e-02,  1.78981766e-01, -5.49284602e-03],\n",
       "        [-1.12533897e-01,  1.52423576e-01,  1.30634531e-01,\n",
       "          1.45839781e-01, -8.30185041e-02, -1.82661176e-01,\n",
       "          1.34705678e-01, -8.56410488e-02,  6.25402629e-02],\n",
       "        [-6.79312125e-02, -6.61136657e-02, -6.31566867e-02,\n",
       "         -2.54814327e-01, -1.53154910e-01,  2.05655918e-01,\n",
       "         -2.98074871e-01, -2.11839110e-01,  3.88486832e-02],\n",
       "        [-6.28814921e-02, -2.05110803e-01, -7.48338550e-02,\n",
       "         -8.54416341e-02, -1.78618357e-01, -1.92488134e-01,\n",
       "         -1.04587682e-01, -7.76041821e-02, -2.06469581e-01],\n",
       "        [ 1.79393627e-02, -1.08436078e-01,  1.19869970e-01,\n",
       "          1.91989280e-02, -1.31075859e-01, -1.37245566e-01,\n",
       "         -4.81429622e-02,  1.69209331e-01,  6.90771267e-02],\n",
       "        [-7.14823678e-02, -2.07081825e-01, -1.60295114e-01,\n",
       "         -5.60816479e-05, -2.61409789e-01,  6.44137785e-02,\n",
       "         -2.19063133e-01,  1.63042657e-02, -1.60510361e-01],\n",
       "        [-1.70339704e-01, -1.59494475e-01,  3.48210223e-02,\n",
       "          2.36257147e-02,  2.28662863e-01, -9.63921770e-02,\n",
       "          1.80087447e-01, -1.72214806e-01, -1.62169393e-02],\n",
       "        [-2.15492696e-01, -1.05717294e-01, -1.05027214e-01,\n",
       "          1.90203279e-01, -1.07068405e-01, -1.64400175e-01,\n",
       "         -1.35712847e-01,  3.91987488e-02, -1.91114843e-01],\n",
       "        [ 2.24865034e-01,  1.16635792e-01,  1.73562229e-01,\n",
       "         -9.01590660e-02, -3.71048087e-03,  1.01877958e-01,\n",
       "         -4.80299769e-03,  1.32320240e-01,  2.35579252e-01],\n",
       "        [ 6.75779730e-02, -8.42133686e-02,  5.05818427e-02,\n",
       "          1.97242908e-02, -2.95099616e-01,  1.53442882e-02,\n",
       "         -1.07693203e-01,  2.16121063e-01,  1.68874204e-01],\n",
       "        [ 1.01419613e-01, -4.37281269e-04, -2.07764477e-01,\n",
       "         -1.57233208e-01, -2.11314470e-01,  2.03097120e-01,\n",
       "         -8.27806741e-02, -2.76880320e-02,  1.34194702e-01],\n",
       "        [-2.31998608e-01,  1.71419457e-01,  1.18515775e-01,\n",
       "         -1.79147739e-02,  2.14523420e-01,  4.17882986e-02,\n",
       "         -2.37920418e-01,  3.61659341e-02,  7.46845827e-02],\n",
       "        [ 1.78815156e-01, -5.62798381e-02, -8.70684236e-02,\n",
       "          8.01978037e-02, -1.24374822e-01,  2.09726766e-01,\n",
       "          2.13457435e-01,  6.22076318e-02, -9.01662782e-02],\n",
       "        [-9.90186930e-02,  8.60957280e-02, -1.22357354e-01,\n",
       "          1.50460780e-01, -8.39093775e-02,  2.41898730e-01,\n",
       "          1.30897895e-01,  2.15813130e-01, -1.16754279e-01],\n",
       "        [ 1.80733770e-01, -6.86971471e-03,  9.41224620e-02,\n",
       "          7.18852580e-02,  7.53813162e-02, -3.69026959e-02,\n",
       "         -1.03028446e-01, -9.26257148e-02, -1.81711167e-01],\n",
       "        [ 1.26321658e-01,  1.52494997e-01,  1.08561687e-01,\n",
       "         -2.29937136e-01,  1.97785035e-01, -1.15859747e-01,\n",
       "          7.74647221e-02,  3.28983888e-02, -1.11250594e-01],\n",
       "        [-2.59122625e-02, -9.36543494e-02,  2.17104644e-01,\n",
       "         -1.47972712e-02,  2.63551492e-02, -2.30242729e-01,\n",
       "         -1.43885136e-01,  1.02498740e-01,  1.56734094e-01],\n",
       "        [-7.42930621e-02,  1.58137679e-01, -1.18009876e-02,\n",
       "         -9.63968858e-02, -2.66514003e-01,  2.19961852e-01,\n",
       "         -2.39904113e-02,  1.03195250e-01,  4.06867377e-02],\n",
       "        [ 2.41681580e-02, -1.05723687e-01, -1.76069230e-01,\n",
       "         -1.21015519e-01, -2.93198973e-01,  2.25190207e-01,\n",
       "         -2.09331319e-01,  1.78582862e-01, -7.96930108e-04],\n",
       "        [ 2.19563603e-01, -1.52759314e-01, -3.67883518e-02,\n",
       "         -2.58574545e-01,  1.40874892e-01,  2.20998228e-01,\n",
       "          5.57093285e-02, -1.76179349e-01,  2.40366161e-01],\n",
       "        [-8.70632604e-02,  2.08382130e-01, -1.67514160e-01,\n",
       "          1.71658024e-01, -2.85512358e-02,  1.44776717e-01,\n",
       "          5.47561236e-02,  1.27564557e-02,  1.26579165e-01],\n",
       "        [ 1.90205872e-02, -7.43058547e-02,  7.97165930e-02,\n",
       "          7.52743408e-02,  1.07714787e-01, -1.94474682e-01,\n",
       "         -1.51151717e-01,  7.61656687e-02, -4.65384946e-04],\n",
       "        [-1.56377822e-01, -2.72389092e-02, -1.55729234e-01,\n",
       "         -3.93396989e-02,  7.22728670e-02,  9.17287767e-02,\n",
       "         -1.84728969e-02, -9.34820771e-02, -1.64993048e-01],\n",
       "        [-1.32913187e-01,  2.06480801e-01,  2.50589252e-01,\n",
       "         -1.54633205e-02,  1.17600016e-01, -1.85710460e-01,\n",
       "          2.02124074e-01,  8.26806277e-02,  1.07284963e-01],\n",
       "        [-4.45950851e-02, -1.55825362e-01,  1.49752814e-02,\n",
       "         -2.16381818e-01, -2.17260733e-01, -1.65166646e-01,\n",
       "          1.78186700e-01, -4.52808328e-02, -7.96070695e-02],\n",
       "        [-4.50689718e-02, -1.98613912e-01, -1.93248034e-01,\n",
       "         -9.87023264e-02,  1.58959165e-01, -2.12794155e-01,\n",
       "         -5.41369356e-02, -4.13791798e-02, -2.15353981e-01],\n",
       "        [ 2.45574445e-01, -1.82034820e-01,  1.64303239e-02,\n",
       "         -1.94001138e-01,  1.43650785e-01,  7.55262598e-02,\n",
       "          2.45743185e-01,  2.13924646e-01,  1.53989494e-01],\n",
       "        [-1.53604925e-01, -5.15823811e-02,  5.82128065e-03,\n",
       "          3.36615406e-02, -2.70809501e-01, -8.04060251e-02,\n",
       "         -2.08201781e-01,  9.05151740e-02, -1.17817760e-01],\n",
       "        [-9.65712741e-02,  1.79212857e-02, -2.75862198e-02,\n",
       "          1.51133165e-01,  2.35998094e-01,  2.59932913e-02,\n",
       "          1.28271431e-01,  2.35541329e-01,  1.25460206e-02],\n",
       "        [ 7.78901502e-02,  5.95166162e-03,  1.56938210e-01,\n",
       "          7.57149011e-02, -1.93835333e-01,  2.20893934e-01,\n",
       "          1.21422224e-01, -1.65846236e-02,  2.41180160e-03],\n",
       "        [ 1.72388211e-01,  2.25229546e-01,  3.88733819e-02,\n",
       "         -2.14182302e-01, -2.51930088e-01, -1.22558199e-01,\n",
       "          2.60152593e-02, -1.52134553e-01,  1.71381310e-01],\n",
       "        [ 5.76418713e-02,  8.73761326e-02,  4.83537838e-02,\n",
       "         -1.44264072e-01,  1.38071179e-01, -6.34016022e-02,\n",
       "          4.31193970e-03,  2.48833001e-01,  3.61217149e-02],\n",
       "        [ 1.72105089e-01,  3.87122273e-03, -2.58346945e-01,\n",
       "         -3.56182270e-02,  1.97954878e-01,  4.09627333e-02,\n",
       "         -2.68495053e-01, -1.35394648e-01, -1.53207287e-01],\n",
       "        [-2.15926077e-02, -1.51768968e-01,  6.95093498e-02,\n",
       "          2.87755311e-01,  1.39108196e-01, -1.07642964e-01,\n",
       "          7.19665810e-02,  2.51432240e-01,  6.75860122e-02],\n",
       "        [-3.57649126e-03, -1.51979461e-01,  1.83328822e-01,\n",
       "         -2.25362062e-01, -1.63195282e-01, -1.34018406e-01,\n",
       "         -2.61596531e-01,  3.12866154e-03, -2.27723923e-02],\n",
       "        [-2.08052307e-01, -1.26725510e-01, -1.90740421e-01,\n",
       "         -2.26139963e-01,  1.72507122e-01, -1.68542057e-01,\n",
       "         -1.00165047e-01, -1.11554461e-02, -2.60334283e-01]], dtype=float32),\n",
       " array([ 0.5283767 ,  0.08903307, -0.38791987, -0.4412488 , -0.5105333 ,\n",
       "        -0.5427468 ,  0.6814163 , -0.8386347 ,  0.4304958 ], dtype=float32)]"
      ]
     },
     "execution_count": 96,
     "metadata": {},
     "output_type": "execute_result"
    }
   ],
   "source": [
    "model.get_weights()"
   ]
  },
  {
   "cell_type": "code",
   "execution_count": 97,
   "id": "60e79448",
   "metadata": {},
   "outputs": [
    {
     "name": "stderr",
     "output_type": "stream",
     "text": [
      "2023-05-30 20:54:20.475814: I tensorflow/core/common_runtime/executor.cc:1197] [/device:CPU:0] (DEBUG INFO) Executor start aborting (this does not indicate an error and you can ignore this message): INVALID_ARGUMENT: You must feed a value for placeholder tensor 'inputs' with dtype float and shape [?,256]\n",
      "\t [[{{node inputs}}]]\n",
      "2023-05-30 20:54:20.501633: I tensorflow/core/common_runtime/executor.cc:1197] [/device:CPU:0] (DEBUG INFO) Executor start aborting (this does not indicate an error and you can ignore this message): INVALID_ARGUMENT: You must feed a value for placeholder tensor 'inputs' with dtype float and shape [?,128]\n",
      "\t [[{{node inputs}}]]\n",
      "2023-05-30 20:54:20.800471: I tensorflow/core/common_runtime/executor.cc:1197] [/device:CPU:0] (DEBUG INFO) Executor start aborting (this does not indicate an error and you can ignore this message): INVALID_ARGUMENT: You must feed a value for placeholder tensor 'inputs' with dtype float and shape [?,256]\n",
      "\t [[{{node inputs}}]]\n",
      "2023-05-30 20:54:20.860035: I tensorflow/core/common_runtime/executor.cc:1197] [/device:CPU:0] (DEBUG INFO) Executor start aborting (this does not indicate an error and you can ignore this message): INVALID_ARGUMENT: You must feed a value for placeholder tensor 'inputs' with dtype float and shape [?,128]\n",
      "\t [[{{node inputs}}]]\n",
      "WARNING:absl:Found untraced functions such as _update_step_xla while saving (showing 1 of 1). These functions will not be directly callable after loading.\n"
     ]
    },
    {
     "name": "stdout",
     "output_type": "stream",
     "text": [
      "INFO:tensorflow:Assets written to: model/assets\n"
     ]
    },
    {
     "name": "stderr",
     "output_type": "stream",
     "text": [
      "INFO:tensorflow:Assets written to: model/assets\n"
     ]
    }
   ],
   "source": [
    "model.save(\"model\")"
   ]
  },
  {
   "cell_type": "code",
   "execution_count": 98,
   "id": "df97fbab",
   "metadata": {},
   "outputs": [
    {
     "data": {
      "text/plain": [
       "(1, 99)"
      ]
     },
     "execution_count": 98,
     "metadata": {},
     "output_type": "execute_result"
    }
   ],
   "source": [
    "np.expand_dims(x_test[0],axis=0).shape"
   ]
  },
  {
   "cell_type": "code",
   "execution_count": 99,
   "id": "534fcefa",
   "metadata": {},
   "outputs": [],
   "source": [
    "import pickle"
   ]
  },
  {
   "cell_type": "code",
   "execution_count": 100,
   "id": "8644501b",
   "metadata": {},
   "outputs": [],
   "source": [
    "pickle.dump(model, open('model_pkl.pkl','wb'))"
   ]
  },
  {
   "cell_type": "code",
   "execution_count": 101,
   "id": "a8a185ba",
   "metadata": {},
   "outputs": [],
   "source": [
    "# model_pkl = pickle.load(open('model_pkl.pkl','rb'))"
   ]
  },
  {
   "cell_type": "code",
   "execution_count": null,
   "id": "dbbdafac",
   "metadata": {},
   "outputs": [],
   "source": []
  },
  {
   "cell_type": "code",
   "execution_count": 102,
   "id": "c560d558",
   "metadata": {},
   "outputs": [
    {
     "name": "stdout",
     "output_type": "stream",
     "text": [
      "1/1 [==============================] - 0s 29ms/step\n"
     ]
    },
    {
     "data": {
      "text/plain": [
       "array([[8.5243845e-01, 1.1508829e-05, 3.8731346e-06, 2.6731321e-04,\n",
       "        3.3478200e-06, 7.1161534e-03, 1.1040677e-01, 2.9043168e-02,\n",
       "        7.0936303e-04]], dtype=float32)"
      ]
     },
     "execution_count": 102,
     "metadata": {},
     "output_type": "execute_result"
    }
   ],
   "source": [
    "model.predict(np.expand_dims(x_test[0],axis=0))"
   ]
  },
  {
   "cell_type": "code",
   "execution_count": 103,
   "id": "93a00418",
   "metadata": {},
   "outputs": [],
   "source": [
    "# mapping = dict(zip(le.classes_, le.transform(le.classes_)))"
   ]
  },
  {
   "cell_type": "code",
   "execution_count": 104,
   "id": "45744796",
   "metadata": {},
   "outputs": [
    {
     "data": {
      "text/plain": [
       "array(['chair'], dtype=object)"
      ]
     },
     "execution_count": 104,
     "metadata": {},
     "output_type": "execute_result"
    }
   ],
   "source": [
    "le.inverse_transform([0])"
   ]
  },
  {
   "cell_type": "code",
   "execution_count": 105,
   "id": "54f09986",
   "metadata": {},
   "outputs": [
    {
     "name": "stdout",
     "output_type": "stream",
     "text": [
      "1/1 [==============================] - 0s 23ms/step\n",
      "1/1 [==============================] - 0s 22ms/step\n",
      "1/1 [==============================] - 0s 23ms/step\n",
      "1/1 [==============================] - 0s 23ms/step\n",
      "1/1 [==============================] - 0s 24ms/step\n",
      "1/1 [==============================] - 0s 22ms/step\n",
      "1/1 [==============================] - 0s 24ms/step\n",
      "1/1 [==============================] - 0s 24ms/step\n",
      "1/1 [==============================] - 0s 22ms/step\n",
      "1/1 [==============================] - 0s 23ms/step\n",
      "1/1 [==============================] - 0s 24ms/step\n",
      "1/1 [==============================] - 0s 24ms/step\n",
      "1/1 [==============================] - 0s 22ms/step\n",
      "1/1 [==============================] - 0s 25ms/step\n",
      "1/1 [==============================] - 0s 22ms/step\n",
      "1/1 [==============================] - 0s 24ms/step\n",
      "1/1 [==============================] - 0s 22ms/step\n",
      "1/1 [==============================] - 0s 24ms/step\n",
      "1/1 [==============================] - 0s 25ms/step\n",
      "1/1 [==============================] - 0s 23ms/step\n",
      "1/1 [==============================] - 0s 23ms/step\n",
      "1/1 [==============================] - 0s 24ms/step\n",
      "1/1 [==============================] - 0s 27ms/step\n",
      "1/1 [==============================] - 0s 49ms/step\n",
      "1/1 [==============================] - 0s 26ms/step\n",
      "1/1 [==============================] - 0s 24ms/step\n",
      "1/1 [==============================] - 0s 19ms/step\n",
      "1/1 [==============================] - 0s 24ms/step\n",
      "1/1 [==============================] - 0s 23ms/step\n",
      "1/1 [==============================] - 0s 24ms/step\n",
      "1/1 [==============================] - 0s 30ms/step\n",
      "1/1 [==============================] - 0s 28ms/step\n",
      "1/1 [==============================] - 0s 25ms/step\n",
      "1/1 [==============================] - 0s 22ms/step\n",
      "1/1 [==============================] - 0s 22ms/step\n",
      "1/1 [==============================] - 0s 23ms/step\n",
      "1/1 [==============================] - 0s 22ms/step\n",
      "1/1 [==============================] - 0s 22ms/step\n",
      "1/1 [==============================] - 0s 21ms/step\n",
      "1/1 [==============================] - 0s 22ms/step\n",
      "1/1 [==============================] - 0s 26ms/step\n",
      "1/1 [==============================] - 0s 26ms/step\n",
      "1/1 [==============================] - 0s 26ms/step\n",
      "1/1 [==============================] - 0s 28ms/step\n",
      "1/1 [==============================] - 0s 28ms/step\n",
      "1/1 [==============================] - 0s 27ms/step\n",
      "1/1 [==============================] - 0s 26ms/step\n",
      "1/1 [==============================] - 0s 25ms/step\n",
      "1/1 [==============================] - 0s 25ms/step\n",
      "1/1 [==============================] - 0s 24ms/step\n",
      "1/1 [==============================] - 0s 24ms/step\n",
      "1/1 [==============================] - 0s 27ms/step\n",
      "1/1 [==============================] - 0s 26ms/step\n",
      "1/1 [==============================] - 0s 25ms/step\n",
      "1/1 [==============================] - 0s 24ms/step\n",
      "1/1 [==============================] - 0s 26ms/step\n",
      "1/1 [==============================] - 0s 26ms/step\n",
      "1/1 [==============================] - 0s 28ms/step\n",
      "1/1 [==============================] - 0s 24ms/step\n",
      "1/1 [==============================] - 0s 29ms/step\n",
      "1/1 [==============================] - 0s 79ms/step\n",
      "1/1 [==============================] - 0s 26ms/step\n",
      "1/1 [==============================] - 0s 28ms/step\n",
      "1/1 [==============================] - 0s 25ms/step\n",
      "1/1 [==============================] - 0s 24ms/step\n",
      "1/1 [==============================] - 0s 24ms/step\n",
      "1/1 [==============================] - 0s 24ms/step\n",
      "1/1 [==============================] - 0s 26ms/step\n",
      "1/1 [==============================] - 0s 25ms/step\n",
      "1/1 [==============================] - 0s 25ms/step\n",
      "1/1 [==============================] - 0s 23ms/step\n",
      "1/1 [==============================] - 0s 23ms/step\n",
      "1/1 [==============================] - 0s 24ms/step\n",
      "1/1 [==============================] - 0s 24ms/step\n",
      "1/1 [==============================] - 0s 24ms/step\n",
      "1/1 [==============================] - 0s 26ms/step\n",
      "1/1 [==============================] - 0s 25ms/step\n",
      "1/1 [==============================] - 0s 25ms/step\n",
      "1/1 [==============================] - 0s 23ms/step\n",
      "1/1 [==============================] - 0s 22ms/step\n",
      "1/1 [==============================] - 0s 23ms/step\n",
      "1/1 [==============================] - 0s 24ms/step\n",
      "1/1 [==============================] - 0s 22ms/step\n",
      "1/1 [==============================] - 0s 26ms/step\n",
      "1/1 [==============================] - 0s 25ms/step\n",
      "1/1 [==============================] - 0s 24ms/step\n",
      "1/1 [==============================] - 0s 23ms/step\n",
      "1/1 [==============================] - 0s 22ms/step\n",
      "1/1 [==============================] - 0s 24ms/step\n",
      "1/1 [==============================] - 0s 23ms/step\n",
      "1/1 [==============================] - 0s 22ms/step\n",
      "1/1 [==============================] - 0s 24ms/step\n",
      "1/1 [==============================] - 0s 25ms/step\n",
      "1/1 [==============================] - 0s 25ms/step\n",
      "1/1 [==============================] - 0s 24ms/step\n",
      "1/1 [==============================] - 0s 24ms/step\n",
      "1/1 [==============================] - 0s 22ms/step\n",
      "1/1 [==============================] - 0s 22ms/step\n",
      "1/1 [==============================] - 0s 24ms/step\n",
      "1/1 [==============================] - 0s 22ms/step\n",
      "1/1 [==============================] - 0s 27ms/step\n",
      "1/1 [==============================] - 0s 25ms/step\n",
      "1/1 [==============================] - 0s 23ms/step\n",
      "1/1 [==============================] - 0s 23ms/step\n",
      "1/1 [==============================] - 0s 24ms/step\n",
      "1/1 [==============================] - 0s 24ms/step\n",
      "1/1 [==============================] - 0s 23ms/step\n",
      "1/1 [==============================] - 0s 22ms/step\n",
      "1/1 [==============================] - 0s 24ms/step\n",
      "1/1 [==============================] - 0s 25ms/step\n",
      "1/1 [==============================] - 0s 25ms/step\n",
      "1/1 [==============================] - 0s 23ms/step\n",
      "1/1 [==============================] - 0s 23ms/step\n",
      "1/1 [==============================] - 0s 24ms/step\n",
      "1/1 [==============================] - 0s 23ms/step\n",
      "1/1 [==============================] - 0s 23ms/step\n",
      "1/1 [==============================] - 0s 24ms/step\n",
      "1/1 [==============================] - 0s 24ms/step\n",
      "1/1 [==============================] - 0s 25ms/step\n",
      "1/1 [==============================] - 0s 24ms/step\n",
      "1/1 [==============================] - 0s 20ms/step\n",
      "1/1 [==============================] - 0s 18ms/step\n",
      "1/1 [==============================] - 0s 18ms/step\n",
      "1/1 [==============================] - 0s 18ms/step\n",
      "1/1 [==============================] - 0s 19ms/step\n",
      "1/1 [==============================] - 0s 19ms/step\n",
      "1/1 [==============================] - 0s 20ms/step\n",
      "1/1 [==============================] - 0s 19ms/step\n",
      "1/1 [==============================] - 0s 19ms/step\n",
      "1/1 [==============================] - 0s 23ms/step\n",
      "1/1 [==============================] - 0s 23ms/step\n",
      "1/1 [==============================] - 0s 24ms/step\n",
      "1/1 [==============================] - 0s 23ms/step\n",
      "1/1 [==============================] - 0s 24ms/step\n",
      "1/1 [==============================] - 0s 24ms/step\n",
      "1/1 [==============================] - 0s 25ms/step\n",
      "1/1 [==============================] - 0s 23ms/step\n",
      "1/1 [==============================] - 0s 22ms/step\n",
      "1/1 [==============================] - 0s 24ms/step\n",
      "1/1 [==============================] - 0s 22ms/step\n",
      "1/1 [==============================] - 0s 23ms/step\n",
      "1/1 [==============================] - 0s 24ms/step\n",
      "1/1 [==============================] - 0s 25ms/step\n",
      "1/1 [==============================] - 0s 25ms/step\n",
      "1/1 [==============================] - 0s 23ms/step\n",
      "1/1 [==============================] - 0s 23ms/step\n",
      "1/1 [==============================] - 0s 23ms/step\n",
      "1/1 [==============================] - 0s 23ms/step\n",
      "1/1 [==============================] - 0s 24ms/step\n",
      "1/1 [==============================] - 0s 23ms/step\n",
      "1/1 [==============================] - 0s 22ms/step\n",
      "1/1 [==============================] - 0s 25ms/step\n",
      "1/1 [==============================] - 0s 24ms/step\n",
      "1/1 [==============================] - 0s 23ms/step\n",
      "1/1 [==============================] - 0s 24ms/step\n",
      "1/1 [==============================] - 0s 23ms/step\n",
      "1/1 [==============================] - 0s 22ms/step\n",
      "1/1 [==============================] - 0s 24ms/step\n",
      "1/1 [==============================] - 0s 22ms/step\n",
      "1/1 [==============================] - 0s 25ms/step\n",
      "1/1 [==============================] - 0s 25ms/step\n",
      "1/1 [==============================] - 0s 23ms/step\n",
      "1/1 [==============================] - 0s 24ms/step\n",
      "1/1 [==============================] - 0s 24ms/step\n",
      "1/1 [==============================] - 0s 22ms/step\n",
      "1/1 [==============================] - 0s 23ms/step\n",
      "1/1 [==============================] - 0s 24ms/step\n",
      "1/1 [==============================] - 0s 23ms/step\n",
      "1/1 [==============================] - 0s 26ms/step\n",
      "1/1 [==============================] - 0s 25ms/step\n",
      "1/1 [==============================] - 0s 23ms/step\n",
      "1/1 [==============================] - 0s 23ms/step\n",
      "1/1 [==============================] - 0s 24ms/step\n",
      "1/1 [==============================] - 0s 24ms/step\n",
      "1/1 [==============================] - 0s 23ms/step\n",
      "1/1 [==============================] - 0s 24ms/step\n",
      "1/1 [==============================] - 0s 24ms/step\n",
      "1/1 [==============================] - 0s 25ms/step\n",
      "1/1 [==============================] - 0s 24ms/step\n",
      "1/1 [==============================] - 0s 23ms/step\n",
      "1/1 [==============================] - 0s 23ms/step\n",
      "1/1 [==============================] - 0s 24ms/step\n",
      "1/1 [==============================] - 0s 24ms/step\n",
      "1/1 [==============================] - 0s 22ms/step\n",
      "1/1 [==============================] - 0s 24ms/step\n",
      "1/1 [==============================] - 0s 28ms/step\n",
      "1/1 [==============================] - 0s 25ms/step\n",
      "1/1 [==============================] - 0s 23ms/step\n",
      "1/1 [==============================] - 0s 24ms/step\n",
      "1/1 [==============================] - 0s 23ms/step\n",
      "1/1 [==============================] - 0s 24ms/step\n",
      "1/1 [==============================] - 0s 22ms/step\n",
      "1/1 [==============================] - 0s 24ms/step\n",
      "1/1 [==============================] - 0s 24ms/step\n",
      "1/1 [==============================] - 0s 23ms/step\n",
      "1/1 [==============================] - 0s 24ms/step\n",
      "1/1 [==============================] - 0s 24ms/step\n",
      "1/1 [==============================] - 0s 25ms/step\n",
      "1/1 [==============================] - 0s 29ms/step\n",
      "1/1 [==============================] - 0s 23ms/step\n",
      "1/1 [==============================] - 0s 27ms/step\n",
      "1/1 [==============================] - 0s 26ms/step\n",
      "1/1 [==============================] - 0s 25ms/step\n",
      "1/1 [==============================] - 0s 25ms/step\n",
      "1/1 [==============================] - 0s 25ms/step\n",
      "1/1 [==============================] - 0s 23ms/step\n",
      "1/1 [==============================] - 0s 23ms/step\n",
      "1/1 [==============================] - 0s 23ms/step\n",
      "1/1 [==============================] - 0s 23ms/step\n",
      "1/1 [==============================] - 0s 26ms/step\n",
      "1/1 [==============================] - 0s 25ms/step\n",
      "1/1 [==============================] - 0s 25ms/step\n"
     ]
    }
   ],
   "source": [
    "cap = cv2.VideoCapture(0)\n",
    "with mp_pose.Pose(min_detection_confidence=0.3, min_tracking_confidence=0.3) as pose:\n",
    "    while cap.isOpened():\n",
    "        success, image = cap.read()\n",
    "        if not success:\n",
    "            print(\"Unable to record\")\n",
    "            continue\n",
    "        image.flags.writeable = False\n",
    "        image = cv2.cvtColor(image,cv2.COLOR_BGR2RGB )\n",
    "        results = pose.process(image)\n",
    "        pose_landmarks = results.pose_landmarks\n",
    "        output_frame = image.copy()\n",
    "        pose_name = 'Unidentified'\n",
    "        if pose_landmarks is not None:\n",
    "#             torso_center_x, torso_center_y = get_center_point(pose_landmarks)\n",
    "            vector = [[lmk.x, lmk.y, lmk.z] for lmk in pose_landmarks.landmark]\n",
    "            frame_height, frame_width = output_frame.shape[:2]\n",
    "\n",
    "            vector *= np.array([frame_width, frame_height, frame_width])\n",
    "            vector = vector.flatten()\n",
    "            vector = np.expand_dims(vector,axis=0)\n",
    "\n",
    "            prediction = model.predict((vector))\n",
    "\n",
    "            index = np.argmax(prediction)\n",
    "\n",
    "            pose_name = le.inverse_transform([index])\n",
    "#             print(\"pose name:\",pose_name)\n",
    "\n",
    "        image.flags.writeable = True\n",
    "        image = cv2.cvtColor(image, cv2.COLOR_RGB2BGR)\n",
    "\n",
    "        mp_drawing.draw_landmarks(image, pose_landmarks, mp_pose.POSE_CONNECTIONS, landmark_drawing_spec = mp_drawing_styles.get_default_pose_landmarks_style())\n",
    "\n",
    "        image = cv2.flip(image,1)\n",
    "\n",
    "        #Rectangle\n",
    "        start_point = (0, 0)\n",
    "        end_point = (300, 100)\n",
    "        color = (0, 0, 0)\n",
    "        thickness = -1\n",
    "        image = cv2.rectangle(image, start_point, end_point, color, thickness)\n",
    "        #write\n",
    "        font = cv2.FONT_HERSHEY_SIMPLEX\n",
    "        org = (25, 50)\n",
    "        fontScale = 1\n",
    "        color = (255, 255, 255)\n",
    "        thickness = 2\n",
    "\n",
    "        image = cv2.putText(image, pose_name[0], org, font, \n",
    "                       fontScale, color, thickness, cv2.LINE_AA)\n",
    "        cv2.imshow('MediaPipe Pose',image)\n",
    "        \n",
    "        if cv2.waitKey(1) & 0xFF == ord('q'):\n",
    "            break\n",
    "\n",
    "cap.release()\n",
    "cv2.destroyAllWindows()"
   ]
  },
  {
   "cell_type": "code",
   "execution_count": 106,
   "id": "e2143b17",
   "metadata": {},
   "outputs": [],
   "source": [
    "#EOF"
   ]
  },
  {
   "cell_type": "code",
   "execution_count": 107,
   "id": "d031ffdb",
   "metadata": {},
   "outputs": [
    {
     "data": {
      "text/plain": [
       "array(['chair', 'traingle', 'warrior Balanced', 'tree', 'shoudler_stand',\n",
       "       'cobra', 'dog', 'warrior', 'no_pose'], dtype=object)"
      ]
     },
     "execution_count": 107,
     "metadata": {},
     "output_type": "execute_result"
    }
   ],
   "source": [
    "df[1].unique()"
   ]
  },
  {
   "cell_type": "code",
   "execution_count": 108,
   "id": "06b7c134",
   "metadata": {},
   "outputs": [],
   "source": [
    "pose_dict={};"
   ]
  },
  {
   "cell_type": "code",
   "execution_count": 109,
   "id": "6bdc9be7",
   "metadata": {},
   "outputs": [],
   "source": [
    "for pose in df[1].unique():\n",
    "    pose_dict[str(le.transform([pose])[0])] = pose"
   ]
  },
  {
   "cell_type": "code",
   "execution_count": 110,
   "id": "d5bfdafe",
   "metadata": {},
   "outputs": [
    {
     "data": {
      "text/plain": [
       "array([0])"
      ]
     },
     "execution_count": 110,
     "metadata": {},
     "output_type": "execute_result"
    }
   ],
   "source": [
    "le.transform(['chair'])"
   ]
  },
  {
   "cell_type": "code",
   "execution_count": 111,
   "id": "b17177bb",
   "metadata": {},
   "outputs": [
    {
     "data": {
      "text/plain": [
       "{'0': 'chair',\n",
       " '5': 'traingle',\n",
       " '8': 'warrior Balanced',\n",
       " '6': 'tree',\n",
       " '4': 'shoudler_stand',\n",
       " '1': 'cobra',\n",
       " '2': 'dog',\n",
       " '7': 'warrior',\n",
       " '3': 'no_pose'}"
      ]
     },
     "execution_count": 111,
     "metadata": {},
     "output_type": "execute_result"
    }
   ],
   "source": [
    "pose_dict"
   ]
  },
  {
   "cell_type": "code",
   "execution_count": 112,
   "id": "695b8a20",
   "metadata": {},
   "outputs": [],
   "source": [
    "import json"
   ]
  },
  {
   "cell_type": "code",
   "execution_count": 113,
   "id": "f02ef3b6",
   "metadata": {},
   "outputs": [],
   "source": [
    "with open('pose_labels.txt','w') as f:\n",
    "    f.write(json.dumps(pose_dict))"
   ]
  },
  {
   "cell_type": "code",
   "execution_count": 114,
   "id": "9cf122ec",
   "metadata": {},
   "outputs": [
    {
     "name": "stderr",
     "output_type": "stream",
     "text": [
      "2023-05-30 20:54:55.946060: I tensorflow/core/common_runtime/executor.cc:1197] [/device:CPU:0] (DEBUG INFO) Executor start aborting (this does not indicate an error and you can ignore this message): INVALID_ARGUMENT: You must feed a value for placeholder tensor 'inputs' with dtype float and shape [?,256]\n",
      "\t [[{{node inputs}}]]\n",
      "2023-05-30 20:54:55.966014: I tensorflow/core/common_runtime/executor.cc:1197] [/device:CPU:0] (DEBUG INFO) Executor start aborting (this does not indicate an error and you can ignore this message): INVALID_ARGUMENT: You must feed a value for placeholder tensor 'inputs' with dtype float and shape [?,128]\n",
      "\t [[{{node inputs}}]]\n",
      "2023-05-30 20:54:56.175523: I tensorflow/core/common_runtime/executor.cc:1197] [/device:CPU:0] (DEBUG INFO) Executor start aborting (this does not indicate an error and you can ignore this message): INVALID_ARGUMENT: You must feed a value for placeholder tensor 'inputs' with dtype float and shape [?,256]\n",
      "\t [[{{node inputs}}]]\n",
      "2023-05-30 20:54:56.220420: I tensorflow/core/common_runtime/executor.cc:1197] [/device:CPU:0] (DEBUG INFO) Executor start aborting (this does not indicate an error and you can ignore this message): INVALID_ARGUMENT: You must feed a value for placeholder tensor 'inputs' with dtype float and shape [?,128]\n",
      "\t [[{{node inputs}}]]\n",
      "WARNING:absl:Found untraced functions such as _update_step_xla while saving (showing 1 of 1). These functions will not be directly callable after loading.\n"
     ]
    },
    {
     "name": "stdout",
     "output_type": "stream",
     "text": [
      "INFO:tensorflow:Assets written to: /tmp/tmp2bva7pll/assets\n"
     ]
    },
    {
     "name": "stderr",
     "output_type": "stream",
     "text": [
      "INFO:tensorflow:Assets written to: /tmp/tmp2bva7pll/assets\n"
     ]
    },
    {
     "name": "stdout",
     "output_type": "stream",
     "text": [
      "Model size: 71KB\n"
     ]
    },
    {
     "name": "stderr",
     "output_type": "stream",
     "text": [
      "2023-05-30 20:54:57.564703: W tensorflow/compiler/mlir/lite/python/tf_tfl_flatbuffer_helpers.cc:364] Ignored output_format.\n",
      "2023-05-30 20:54:57.564759: W tensorflow/compiler/mlir/lite/python/tf_tfl_flatbuffer_helpers.cc:367] Ignored drop_control_dependency.\n",
      "2023-05-30 20:54:57.565142: I tensorflow/cc/saved_model/reader.cc:45] Reading SavedModel from: /tmp/tmp2bva7pll\n",
      "2023-05-30 20:54:57.568030: I tensorflow/cc/saved_model/reader.cc:89] Reading meta graph with tags { serve }\n",
      "2023-05-30 20:54:57.568085: I tensorflow/cc/saved_model/reader.cc:130] Reading SavedModel debug info (if present) from: /tmp/tmp2bva7pll\n",
      "2023-05-30 20:54:57.580104: I tensorflow/cc/saved_model/loader.cc:231] Restoring SavedModel bundle.\n",
      "2023-05-30 20:54:57.668570: I tensorflow/cc/saved_model/loader.cc:215] Running initialization op on SavedModel bundle at path: /tmp/tmp2bva7pll\n",
      "2023-05-30 20:54:57.694532: I tensorflow/cc/saved_model/loader.cc:314] SavedModel load for tags { serve }; Status: success: OK. Took 129392 microseconds.\n"
     ]
    }
   ],
   "source": [
    "converter = tf.lite.TFLiteConverter.from_keras_model(model)\n",
    "converter.optimizations = [tf.lite.Optimize.DEFAULT]\n",
    "tflite_model = converter.convert()\n",
    "\n",
    "print('Model size: %dKB' % (len(tflite_model) / 1024))\n",
    "\n",
    "with open('pose_classifier.tflite', 'wb') as f:\n",
    "  f.write(tflite_model)"
   ]
  },
  {
   "cell_type": "code",
   "execution_count": 115,
   "id": "6e8237f2",
   "metadata": {},
   "outputs": [],
   "source": [
    "# with open('pose_labels.txt', 'w') as f:\n",
    "#   f.write('\\n'.join(df[1]))"
   ]
  },
  {
   "cell_type": "code",
   "execution_count": 116,
   "id": "3f83829d",
   "metadata": {},
   "outputs": [],
   "source": [
    "# from zipfile import ZipFile"
   ]
  },
  {
   "cell_type": "code",
   "execution_count": 117,
   "id": "59855925",
   "metadata": {},
   "outputs": [],
   "source": [
    "# with ZipFile('model.zip', 'w') as zipObj:\n",
    "#     zipObj.write('pose_classifier.tflite')\n",
    "#     zipObj.write('pose_labels.txt')\n",
    "#     zipObj.close()"
   ]
  },
  {
   "cell_type": "code",
   "execution_count": 118,
   "id": "2493f09f",
   "metadata": {},
   "outputs": [],
   "source": [
    "# tfjs.converters.save_keras_model(model,'model')"
   ]
  },
  {
   "cell_type": "code",
   "execution_count": 119,
   "id": "9acb19a2",
   "metadata": {},
   "outputs": [],
   "source": [
    "# !zip pose_classifier.zip pose_labels.txt pose_classifier.tflite"
   ]
  },
  {
   "cell_type": "code",
   "execution_count": 120,
   "id": "25f9e510",
   "metadata": {},
   "outputs": [],
   "source": [
    "# try:\n",
    "#   from google.colab import files\n",
    "#   files.download('pose_classifier.zip')\n",
    "# except:\n",
    "#   pass"
   ]
  },
  {
   "cell_type": "code",
   "execution_count": 121,
   "id": "f3eafeb9",
   "metadata": {},
   "outputs": [
    {
     "name": "stdout",
     "output_type": "stream",
     "text": [
      "20/20 [==============================] - 0s 2ms/step\n"
     ]
    },
    {
     "data": {
      "text/plain": [
       "array([[8.5243833e-01, 1.1508827e-05, 3.8731341e-06, ..., 1.1040691e-01,\n",
       "        2.9043164e-02, 7.0936297e-04],\n",
       "       [2.2442503e-16, 5.8252621e-09, 9.9999958e-01, ..., 1.3518476e-13,\n",
       "        5.2700484e-09, 8.2881157e-10],\n",
       "       [0.0000000e+00, 0.0000000e+00, 9.9999994e-01, ..., 0.0000000e+00,\n",
       "        0.0000000e+00, 0.0000000e+00],\n",
       "       ...,\n",
       "       [1.3782707e-02, 3.8755694e-05, 3.3228632e-04, ..., 9.7968310e-01,\n",
       "        4.4197887e-03, 1.6420784e-04],\n",
       "       [6.4850549e-11, 3.0466589e-07, 9.9948043e-01, ..., 5.5994659e-10,\n",
       "        1.5424424e-05, 5.0364912e-04],\n",
       "       [2.4136261e-07, 3.6241770e-05, 9.8611706e-01, ..., 3.4262135e-07,\n",
       "        1.8570045e-04, 1.3561534e-02]], dtype=float32)"
      ]
     },
     "execution_count": 121,
     "metadata": {},
     "output_type": "execute_result"
    }
   ],
   "source": [
    "model.predict(x_test)"
   ]
  },
  {
   "cell_type": "code",
   "execution_count": 122,
   "id": "fec9fc54",
   "metadata": {},
   "outputs": [
    {
     "name": "stdout",
     "output_type": "stream",
     "text": [
      "20/20 [==============================] - 0s 2ms/step - loss: 0.2983 - accuracy: 0.9513\n"
     ]
    },
    {
     "data": {
      "text/plain": [
       "[0.2983179986476898, 0.9512578845024109]"
      ]
     },
     "execution_count": 122,
     "metadata": {},
     "output_type": "execute_result"
    }
   ],
   "source": [
    "model.evaluate(x_test, y_test)"
   ]
  }
 ],
 "metadata": {
  "kernelspec": {
   "display_name": "Python 3 (ipykernel)",
   "language": "python",
   "name": "python3"
  },
  "language_info": {
   "codemirror_mode": {
    "name": "ipython",
    "version": 3
   },
   "file_extension": ".py",
   "mimetype": "text/x-python",
   "name": "python",
   "nbconvert_exporter": "python",
   "pygments_lexer": "ipython3",
   "version": "3.10.10"
  }
 },
 "nbformat": 4,
 "nbformat_minor": 5
}
